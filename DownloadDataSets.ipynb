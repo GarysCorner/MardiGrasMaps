{
 "cells": [
  {
   "cell_type": "markdown",
   "id": "0ac81cf1-2a49-4777-97b3-6af330b64b86",
   "metadata": {},
   "source": [
    "# Download Datasets\n",
    "\n",
    "This downloads the different datasets\n",
    "\n",
    "You will need an APP Token https://dev.socrata.com/docs/app-tokens.html\n",
    "\n"
   ]
  },
  {
   "cell_type": "code",
   "execution_count": 1,
   "id": "b8c1a9e1-73e9-451e-91dd-9783e83ff8fe",
   "metadata": {},
   "outputs": [],
   "source": [
    "import os\n",
    "from datetime import datetime\n",
    "import requests\n",
    "from dotenv import load_dotenv"
   ]
  },
  {
   "cell_type": "code",
   "execution_count": 2,
   "id": "7ab509a5-5541-48aa-88ae-4f60ec1e69fa",
   "metadata": {},
   "outputs": [],
   "source": [
    "paradeRoutesEndpoint = \"https://data.nola.gov/resource/tkeu-9s5e.geojson\""
   ]
  },
  {
   "cell_type": "code",
   "execution_count": 3,
   "id": "b898b379-87cf-4f45-abf7-3c1d469e9b1f",
   "metadata": {},
   "outputs": [],
   "source": [
    "portoletLocationEndpoint = \"https://data.nola.gov/resource/ekd9-snag.geojson\""
   ]
  },
  {
   "cell_type": "code",
   "execution_count": 4,
   "id": "8daa92fa-405e-4e1b-a718-71acf6926888",
   "metadata": {},
   "outputs": [],
   "source": [
    "firstAitLocationEndpoint = \"https://data.nola.gov/resource/qa73-irdh.geojson\""
   ]
  },
  {
   "cell_type": "code",
   "execution_count": 5,
   "id": "09144307-6bea-4456-8fca-d562adb8eeb7",
   "metadata": {},
   "outputs": [],
   "source": [
    "recyclingLocationEndpoint = \"https://data.nola.gov/resource/955d-h748.geojson\""
   ]
  },
  {
   "cell_type": "code",
   "execution_count": 6,
   "id": "4e96a9eb-33f2-46df-8170-9987a664276e",
   "metadata": {},
   "outputs": [],
   "source": [
    "lostChildrenEndpoint = \"https://data.nola.gov/resource/diq2-v2kc.geojson\""
   ]
  },
  {
   "cell_type": "code",
   "execution_count": 7,
   "id": "6c83fcce-6ab0-407b-9c70-fbbc8f0a5413",
   "metadata": {},
   "outputs": [
    {
     "name": "stdout",
     "output_type": "stream",
     "text": [
      "[2025-02-20 17:41:13.798270] Starting...\n"
     ]
    }
   ],
   "source": [
    "def lp(v):\n",
    "    print(f\"[{datetime.now()}] {v}\")\n",
    "\n",
    "lp(\"Starting...\")"
   ]
  },
  {
   "cell_type": "code",
   "execution_count": 8,
   "id": "6e563eac-cb34-47c3-a2f4-94bc09aa376d",
   "metadata": {},
   "outputs": [
    {
     "name": "stdout",
     "output_type": "stream",
     "text": [
      "[2025-02-20 17:41:13.802047] load_dotenv:  True\n"
     ]
    }
   ],
   "source": [
    "lp(f\"load_dotenv:  {load_dotenv()}\")"
   ]
  },
  {
   "cell_type": "code",
   "execution_count": 9,
   "id": "f312cc30-5f38-47a1-903d-c7357565d600",
   "metadata": {},
   "outputs": [
    {
     "name": "stdout",
     "output_type": "stream",
     "text": [
      "[2025-02-20 17:41:13.805273] Loading APP Token\n",
      "[2025-02-20 17:41:13.805451] App token ************************* loaded\n"
     ]
    }
   ],
   "source": [
    "lp(\"Loading APP Token\")\n",
    "appToken = os.environ.get(\"DATA_NOLA_GOV_APPTOKEN\")\n",
    "lp(f\"App token {'*' * len(appToken)} loaded\")"
   ]
  },
  {
   "cell_type": "code",
   "execution_count": 10,
   "id": "86f50cea-d348-4e9c-b78e-37a393111d11",
   "metadata": {},
   "outputs": [
    {
     "name": "stdout",
     "output_type": "stream",
     "text": [
      "[2025-02-20 17:41:13.810139] Path:  ./datasets/\n"
     ]
    }
   ],
   "source": [
    "dataPath = f\"{os.curdir}{os.sep}datasets{os.sep}\"\n",
    "lp(f\"Path:  {dataPath}\")"
   ]
  },
  {
   "cell_type": "code",
   "execution_count": 11,
   "id": "f5e6a2c6-76c9-498b-ba23-6020a659f28a",
   "metadata": {},
   "outputs": [
    {
     "name": "stdout",
     "output_type": "stream",
     "text": [
      "[2025-02-20 17:41:13.814474] ./datasets/ already exists\n"
     ]
    }
   ],
   "source": [
    "if not os.path.exists(dataPath):\n",
    "    lp(f\"Creating path {dataPath}\")\n",
    "    os.makedirs(dataPath)\n",
    "\n",
    "else:\n",
    "    lp(f\"{dataPath} already exists\")\n",
    "    "
   ]
  },
  {
   "cell_type": "code",
   "execution_count": 12,
   "id": "d81aa107-02ad-43db-9672-05e28fc775fe",
   "metadata": {},
   "outputs": [
    {
     "name": "stdout",
     "output_type": "stream",
     "text": [
      "[2025-02-20 17:41:13.818947] Creating sessions\n"
     ]
    }
   ],
   "source": [
    "lp(\"Creating sessions\")\n",
    "session = requests.Session()\n",
    "session.headers.update({\n",
    "    'X-App-Token':appToken,\n",
    "    'Accept':'application/json'\n",
    "})"
   ]
  },
  {
   "cell_type": "code",
   "execution_count": 13,
   "id": "77162251-3e40-4da7-b475-a458e6a0177c",
   "metadata": {},
   "outputs": [],
   "source": [
    "def getDataSet(url, outFile):\n",
    "\n",
    "    if os.path.exists(f\"{dataPath}{outFile}\"):\n",
    "        lp(f\"{dataPath}{outFile} already exists to delete this file if you wish to redownload it\")\n",
    "        return False\n",
    "    \n",
    "    lp(f\"Getting content from {url}\")\n",
    "    resp = session.get(url)\n",
    "    resp.raise_for_status()\n",
    "\n",
    "    lp(f\"{len(resp.content)} bytes downloaded\")\n",
    "    \n",
    "    lp(f\"Writting to {dataPath}{outFile}\")\n",
    "    with open(f\"{dataPath}{outFile}\", \"wb\") as f:\n",
    "        f.write(resp.content)\n",
    "\n",
    "    return True\n",
    "    "
   ]
  },
  {
   "cell_type": "code",
   "execution_count": 14,
   "id": "4ed8f5e6-6146-4578-98c7-b4d60c37876c",
   "metadata": {},
   "outputs": [
    {
     "name": "stdout",
     "output_type": "stream",
     "text": [
      "[2025-02-20 17:41:13.828177] Downloading parade routes\n",
      "[2025-02-20 17:41:13.828654] ./datasets/paradeRoutes.geojson already exists to delete this file if you wish to redownload it\n"
     ]
    },
    {
     "data": {
      "text/plain": [
       "False"
      ]
     },
     "execution_count": 14,
     "metadata": {},
     "output_type": "execute_result"
    }
   ],
   "source": [
    "lp(\"Downloading parade routes\")\n",
    "getDataSet(paradeRoutesEndpoint, 'paradeRoutes.geojson')"
   ]
  },
  {
   "cell_type": "code",
   "execution_count": 15,
   "id": "9200e336-684d-496a-8cf9-30fc1cb40a2d",
   "metadata": {},
   "outputs": [
    {
     "name": "stdout",
     "output_type": "stream",
     "text": [
      "[2025-02-20 17:41:13.834621] Downloading shitter locations\n",
      "[2025-02-20 17:41:13.834984] ./datasets/toiletLocation.geojson already exists to delete this file if you wish to redownload it\n"
     ]
    },
    {
     "data": {
      "text/plain": [
       "False"
      ]
     },
     "execution_count": 15,
     "metadata": {},
     "output_type": "execute_result"
    }
   ],
   "source": [
    "lp(\"Downloading shitter locations\")\n",
    "getDataSet(portoletLocationEndpoint, 'toiletLocation.geojson')"
   ]
  },
  {
   "cell_type": "code",
   "execution_count": 16,
   "id": "11f16daa-1851-4129-ac98-8ba1eaec1e6b",
   "metadata": {},
   "outputs": [
    {
     "name": "stdout",
     "output_type": "stream",
     "text": [
      "[2025-02-20 17:41:13.839086] ./datasets/firstAidLocation.geojson already exists to delete this file if you wish to redownload it\n"
     ]
    },
    {
     "data": {
      "text/plain": [
       "False"
      ]
     },
     "execution_count": 16,
     "metadata": {},
     "output_type": "execute_result"
    }
   ],
   "source": [
    "getDataSet(firstAitLocationEndpoint, 'firstAidLocation.geojson')"
   ]
  },
  {
   "cell_type": "code",
   "execution_count": 17,
   "id": "d785f4f1-9610-48ab-af19-55b34b1793c6",
   "metadata": {},
   "outputs": [
    {
     "name": "stdout",
     "output_type": "stream",
     "text": [
      "[2025-02-20 17:41:13.844128] ./datasets/recyclingLocation.geojson already exists to delete this file if you wish to redownload it\n"
     ]
    },
    {
     "data": {
      "text/plain": [
       "False"
      ]
     },
     "execution_count": 17,
     "metadata": {},
     "output_type": "execute_result"
    }
   ],
   "source": [
    "getDataSet(recyclingLocationEndpoint, \"recyclingLocation.geojson\")"
   ]
  },
  {
   "cell_type": "code",
   "execution_count": 18,
   "id": "5abae552-125f-402d-9940-c62b9cc194ad",
   "metadata": {},
   "outputs": [
    {
     "name": "stdout",
     "output_type": "stream",
     "text": [
      "[2025-02-20 17:41:13.848428] ./datasets/lostChildren.geojson already exists to delete this file if you wish to redownload it\n"
     ]
    },
    {
     "data": {
      "text/plain": [
       "False"
      ]
     },
     "execution_count": 18,
     "metadata": {},
     "output_type": "execute_result"
    }
   ],
   "source": [
    "getDataSet(lostChildrenEndpoint, \"lostChildren.geojson\")"
   ]
  },
  {
   "cell_type": "code",
   "execution_count": 19,
   "id": "14e14775-2a84-433f-999d-9e9604765f32",
   "metadata": {},
   "outputs": [
    {
     "name": "stdout",
     "output_type": "stream",
     "text": [
      "[2025-02-20 17:41:13.852994] Done\n"
     ]
    }
   ],
   "source": [
    "lp(\"Done\")"
   ]
  },
  {
   "cell_type": "code",
   "execution_count": null,
   "id": "3ba146ae-a205-434c-9704-7dbb6509a252",
   "metadata": {},
   "outputs": [],
   "source": []
  }
 ],
 "metadata": {
  "kernelspec": {
   "display_name": "Python 3 (ipykernel)",
   "language": "python",
   "name": "python3"
  },
  "language_info": {
   "codemirror_mode": {
    "name": "ipython",
    "version": 3
   },
   "file_extension": ".py",
   "mimetype": "text/x-python",
   "name": "python",
   "nbconvert_exporter": "python",
   "pygments_lexer": "ipython3",
   "version": "3.11.2"
  }
 },
 "nbformat": 4,
 "nbformat_minor": 5
}
