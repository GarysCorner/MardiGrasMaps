{
 "cells": [
  {
   "cell_type": "markdown",
   "id": "0ac81cf1-2a49-4777-97b3-6af330b64b86",
   "metadata": {},
   "source": [
    "# Download Datasets\n",
    "\n",
    "This downloads the different datasets\n",
    "\n",
    "You will need an APP Token https://dev.socrata.com/docs/app-tokens.html\n",
    "\n"
   ]
  },
  {
   "cell_type": "code",
   "execution_count": 1,
   "id": "b8c1a9e1-73e9-451e-91dd-9783e83ff8fe",
   "metadata": {},
   "outputs": [],
   "source": [
    "import os\n",
    "from datetime import datetime\n",
    "import requests\n",
    "from dotenv import load_dotenv\n",
    "import math\n",
    "import json"
   ]
  },
  {
   "cell_type": "code",
   "execution_count": 2,
   "id": "7ab509a5-5541-48aa-88ae-4f60ec1e69fa",
   "metadata": {},
   "outputs": [],
   "source": [
    "datasets = [\n",
    "    (\"paradeRoutes.geojson\",\"https://data.nola.gov/resource/tkeu-9s5e.geojson\"),\n",
    "    (\"toiletLocation.geojson\",\"https://data.nola.gov/resource/ekd9-snag.geojson\"),\n",
    "    (\"recyclingLocation.geojson\",\"https://data.nola.gov/resource/955d-h748.geojson\"),\n",
    "    (\"lostChildren.geojson\", \"https://data.nola.gov/resource/diq2-v2kc.geojson\"),\n",
    "    #(\"neighborhoods.geojson\",\"https://data.nola.gov/resource/c8ew-p2c8.geojson\"),\n",
    "    (\"streets.geojson\",\"https://data.nola.gov/resource/fdkj-rjrv.geojson\")\n",
    "    \n",
    "\n",
    "]\n",
    "\n"
   ]
  },
  {
   "cell_type": "code",
   "execution_count": 3,
   "id": "6c83fcce-6ab0-407b-9c70-fbbc8f0a5413",
   "metadata": {},
   "outputs": [
    {
     "name": "stdout",
     "output_type": "stream",
     "text": [
      "[2025-02-20 18:40:50.688891] Starting...\n"
     ]
    }
   ],
   "source": [
    "def lp(v):\n",
    "    print(f\"[{datetime.now()}] {v}\")\n",
    "\n",
    "lp(\"Starting...\")"
   ]
  },
  {
   "cell_type": "code",
   "execution_count": 4,
   "id": "6e563eac-cb34-47c3-a2f4-94bc09aa376d",
   "metadata": {},
   "outputs": [
    {
     "name": "stdout",
     "output_type": "stream",
     "text": [
      "[2025-02-20 18:40:50.693983] load_dotenv:  True\n"
     ]
    }
   ],
   "source": [
    "lp(f\"load_dotenv:  {load_dotenv()}\")"
   ]
  },
  {
   "cell_type": "code",
   "execution_count": 5,
   "id": "f312cc30-5f38-47a1-903d-c7357565d600",
   "metadata": {},
   "outputs": [
    {
     "name": "stdout",
     "output_type": "stream",
     "text": [
      "[2025-02-20 18:40:50.697431] Loading APP Token\n",
      "[2025-02-20 18:40:50.697597] App token ************************* loaded\n"
     ]
    }
   ],
   "source": [
    "lp(\"Loading APP Token\")\n",
    "appToken = os.environ.get(\"DATA_NOLA_GOV_APPTOKEN\")\n",
    "lp(f\"App token {'*' * len(appToken)} loaded\")"
   ]
  },
  {
   "cell_type": "code",
   "execution_count": 6,
   "id": "86f50cea-d348-4e9c-b78e-37a393111d11",
   "metadata": {},
   "outputs": [
    {
     "name": "stdout",
     "output_type": "stream",
     "text": [
      "[2025-02-20 18:40:50.701010] Path:  ./datasets/\n"
     ]
    }
   ],
   "source": [
    "dataPath = f\"{os.curdir}{os.sep}datasets{os.sep}\"\n",
    "lp(f\"Path:  {dataPath}\")"
   ]
  },
  {
   "cell_type": "code",
   "execution_count": 7,
   "id": "f5e6a2c6-76c9-498b-ba23-6020a659f28a",
   "metadata": {},
   "outputs": [
    {
     "name": "stdout",
     "output_type": "stream",
     "text": [
      "[2025-02-20 18:40:50.705272] ./datasets/ already exists\n"
     ]
    }
   ],
   "source": [
    "if not os.path.exists(dataPath):\n",
    "    lp(f\"Creating path {dataPath}\")\n",
    "    os.makedirs(dataPath)\n",
    "\n",
    "else:\n",
    "    lp(f\"{dataPath} already exists\")\n",
    "    "
   ]
  },
  {
   "cell_type": "code",
   "execution_count": 8,
   "id": "d81aa107-02ad-43db-9672-05e28fc775fe",
   "metadata": {},
   "outputs": [
    {
     "name": "stdout",
     "output_type": "stream",
     "text": [
      "[2025-02-20 18:40:50.710186] Creating sessions\n"
     ]
    }
   ],
   "source": [
    "lp(\"Creating sessions\")\n",
    "session = requests.Session()\n",
    "session.headers.update({\n",
    "    'X-App-Token':appToken,\n",
    "    'Accept':'application/json'\n",
    "})"
   ]
  },
  {
   "cell_type": "code",
   "execution_count": null,
   "id": "a28a0c0d-fd1f-40f0-8352-af13b52068b4",
   "metadata": {},
   "outputs": [],
   "source": []
  },
  {
   "cell_type": "code",
   "execution_count": 11,
   "id": "77162251-3e40-4da7-b475-a458e6a0177c",
   "metadata": {},
   "outputs": [],
   "source": [
    "def getDataSet(outFile, url, limit = 1000, maxCycle = math.inf):\n",
    "\n",
    "\n",
    "    if os.path.exists(f\"{dataPath}{outFile}\"):\n",
    "        lp(f\"{dataPath}{outFile} already exists delete this file if you wish to redownload it\")\n",
    "        return False\n",
    "\n",
    "\n",
    "    lp(f\"Writting to {dataPath}{outFile}\")\n",
    "    \n",
    "\n",
    "    totalLen = 0\n",
    "    lastLen = 1\n",
    "    offset = 0\n",
    "    cycle = 0\n",
    "    fullData = { \"type\": \"FeatureCollection\", \"features\":[]}\n",
    "    while lastLen > 0 and cycle < maxCycle:\n",
    "    \n",
    "        lp(f\"Getting content from {url}  limit={limit} offset={offset}\")\n",
    "        resp = session.get(url, params={'$limit':limit,'$offset':offset,'$order':':id'})\n",
    "        resp.raise_for_status()\n",
    "\n",
    "        \n",
    "        outData = json.loads(resp.text)\n",
    "\n",
    "        \n",
    "        fullData['features'] += outData['features']\n",
    "\n",
    "        lastLen = len(outData['features'])\n",
    "        totalLen += lastLen\n",
    "\n",
    "        lp(f\"{len(resp.content)} bytes downloaded {lastLen} features, total features downloaded {totalLen}\")\n",
    "        \n",
    "\n",
    "        cycle += 1\n",
    "        offset += limit\n",
    "\n",
    "\n",
    "    with open(f\"{dataPath}{outFile}\", \"w\") as f:\n",
    "        json.dump(fullData,f)\n",
    "\n",
    "    lp(f\"Finished writing {totalLen} bytes to {outFile}\")\n",
    "    \n",
    "    return fullData\n",
    "    "
   ]
  },
  {
   "cell_type": "code",
   "execution_count": 12,
   "id": "9570d90a-6ceb-4edb-9fbf-0e4ee9705cf1",
   "metadata": {},
   "outputs": [
    {
     "name": "stdout",
     "output_type": "stream",
     "text": [
      "[2025-02-20 18:45:02.486595] ./datasets/paradeRoutes.geojson already exists delete this file if you wish to redownload it\n",
      "[2025-02-20 18:45:02.487321] ./datasets/toiletLocation.geojson already exists delete this file if you wish to redownload it\n",
      "[2025-02-20 18:45:02.487341] ./datasets/recyclingLocation.geojson already exists delete this file if you wish to redownload it\n",
      "[2025-02-20 18:45:02.487353] ./datasets/lostChildren.geojson already exists delete this file if you wish to redownload it\n",
      "[2025-02-20 18:45:02.487369] Writting to ./datasets/streets.geojson\n",
      "[2025-02-20 18:45:02.487379] Getting content from https://data.nola.gov/resource/fdkj-rjrv.geojson  limit=1000 offset=0\n",
      "[2025-02-20 18:45:03.565776] 980510 bytes downloaded 1000 features, total features downloaded 1000\n",
      "[2025-02-20 18:45:03.565855] Getting content from https://data.nola.gov/resource/fdkj-rjrv.geojson  limit=1000 offset=1000\n",
      "[2025-02-20 18:45:04.155641] 978556 bytes downloaded 1000 features, total features downloaded 2000\n",
      "[2025-02-20 18:45:04.155711] Getting content from https://data.nola.gov/resource/fdkj-rjrv.geojson  limit=1000 offset=2000\n",
      "[2025-02-20 18:45:04.640922] 984382 bytes downloaded 1000 features, total features downloaded 3000\n",
      "[2025-02-20 18:45:04.640995] Getting content from https://data.nola.gov/resource/fdkj-rjrv.geojson  limit=1000 offset=3000\n",
      "[2025-02-20 18:45:05.020059] 980937 bytes downloaded 1000 features, total features downloaded 4000\n",
      "[2025-02-20 18:45:05.020127] Getting content from https://data.nola.gov/resource/fdkj-rjrv.geojson  limit=1000 offset=4000\n",
      "[2025-02-20 18:45:05.368667] 975903 bytes downloaded 1000 features, total features downloaded 5000\n",
      "[2025-02-20 18:45:05.368738] Getting content from https://data.nola.gov/resource/fdkj-rjrv.geojson  limit=1000 offset=5000\n",
      "[2025-02-20 18:45:05.742309] 978335 bytes downloaded 1000 features, total features downloaded 6000\n",
      "[2025-02-20 18:45:05.742380] Getting content from https://data.nola.gov/resource/fdkj-rjrv.geojson  limit=1000 offset=6000\n",
      "[2025-02-20 18:45:06.226269] 982530 bytes downloaded 1000 features, total features downloaded 7000\n",
      "[2025-02-20 18:45:06.226343] Getting content from https://data.nola.gov/resource/fdkj-rjrv.geojson  limit=1000 offset=7000\n",
      "[2025-02-20 18:45:06.730894] 991411 bytes downloaded 1000 features, total features downloaded 8000\n",
      "[2025-02-20 18:45:06.730983] Getting content from https://data.nola.gov/resource/fdkj-rjrv.geojson  limit=1000 offset=8000\n",
      "[2025-02-20 18:45:07.194510] 984631 bytes downloaded 1000 features, total features downloaded 9000\n",
      "[2025-02-20 18:45:07.194584] Getting content from https://data.nola.gov/resource/fdkj-rjrv.geojson  limit=1000 offset=9000\n",
      "[2025-02-20 18:45:07.581646] 985617 bytes downloaded 1000 features, total features downloaded 10000\n",
      "[2025-02-20 18:45:07.581719] Getting content from https://data.nola.gov/resource/fdkj-rjrv.geojson  limit=1000 offset=10000\n",
      "[2025-02-20 18:45:07.984443] 974188 bytes downloaded 1000 features, total features downloaded 11000\n",
      "[2025-02-20 18:45:07.984514] Getting content from https://data.nola.gov/resource/fdkj-rjrv.geojson  limit=1000 offset=11000\n",
      "[2025-02-20 18:45:08.348426] 979652 bytes downloaded 1000 features, total features downloaded 12000\n",
      "[2025-02-20 18:45:08.348496] Getting content from https://data.nola.gov/resource/fdkj-rjrv.geojson  limit=1000 offset=12000\n",
      "[2025-02-20 18:45:08.736038] 973879 bytes downloaded 1000 features, total features downloaded 13000\n",
      "[2025-02-20 18:45:08.736118] Getting content from https://data.nola.gov/resource/fdkj-rjrv.geojson  limit=1000 offset=13000\n",
      "[2025-02-20 18:45:09.159176] 987359 bytes downloaded 1000 features, total features downloaded 14000\n",
      "[2025-02-20 18:45:09.159251] Getting content from https://data.nola.gov/resource/fdkj-rjrv.geojson  limit=1000 offset=14000\n",
      "[2025-02-20 18:45:09.838665] 981623 bytes downloaded 1000 features, total features downloaded 15000\n",
      "[2025-02-20 18:45:09.838741] Getting content from https://data.nola.gov/resource/fdkj-rjrv.geojson  limit=1000 offset=15000\n",
      "[2025-02-20 18:45:10.210601] 979455 bytes downloaded 1000 features, total features downloaded 16000\n",
      "[2025-02-20 18:45:10.210671] Getting content from https://data.nola.gov/resource/fdkj-rjrv.geojson  limit=1000 offset=16000\n",
      "[2025-02-20 18:45:10.605020] 987654 bytes downloaded 1000 features, total features downloaded 17000\n",
      "[2025-02-20 18:45:10.605089] Getting content from https://data.nola.gov/resource/fdkj-rjrv.geojson  limit=1000 offset=17000\n",
      "[2025-02-20 18:45:10.979630] 979937 bytes downloaded 1000 features, total features downloaded 18000\n",
      "[2025-02-20 18:45:10.979709] Getting content from https://data.nola.gov/resource/fdkj-rjrv.geojson  limit=1000 offset=18000\n",
      "[2025-02-20 18:45:11.582267] 973913 bytes downloaded 1000 features, total features downloaded 19000\n",
      "[2025-02-20 18:45:11.582420] Getting content from https://data.nola.gov/resource/fdkj-rjrv.geojson  limit=1000 offset=19000\n",
      "[2025-02-20 18:45:11.938708] 988645 bytes downloaded 1000 features, total features downloaded 20000\n",
      "[2025-02-20 18:45:11.938784] Getting content from https://data.nola.gov/resource/fdkj-rjrv.geojson  limit=1000 offset=20000\n",
      "[2025-02-20 18:45:12.384894] 993122 bytes downloaded 1000 features, total features downloaded 21000\n",
      "[2025-02-20 18:45:12.384969] Getting content from https://data.nola.gov/resource/fdkj-rjrv.geojson  limit=1000 offset=21000\n",
      "[2025-02-20 18:45:12.740326] 982944 bytes downloaded 1000 features, total features downloaded 22000\n",
      "[2025-02-20 18:45:12.740392] Getting content from https://data.nola.gov/resource/fdkj-rjrv.geojson  limit=1000 offset=22000\n",
      "[2025-02-20 18:45:13.320037] 980608 bytes downloaded 1000 features, total features downloaded 23000\n",
      "[2025-02-20 18:45:13.320106] Getting content from https://data.nola.gov/resource/fdkj-rjrv.geojson  limit=1000 offset=23000\n",
      "[2025-02-20 18:45:13.840595] 988945 bytes downloaded 1000 features, total features downloaded 24000\n",
      "[2025-02-20 18:45:13.840663] Getting content from https://data.nola.gov/resource/fdkj-rjrv.geojson  limit=1000 offset=24000\n",
      "[2025-02-20 18:45:14.226688] 978145 bytes downloaded 1000 features, total features downloaded 25000\n",
      "[2025-02-20 18:45:14.226759] Getting content from https://data.nola.gov/resource/fdkj-rjrv.geojson  limit=1000 offset=25000\n",
      "[2025-02-20 18:45:14.614235] 983429 bytes downloaded 1000 features, total features downloaded 26000\n",
      "[2025-02-20 18:45:14.614304] Getting content from https://data.nola.gov/resource/fdkj-rjrv.geojson  limit=1000 offset=26000\n",
      "[2025-02-20 18:45:14.992543] 1156331 bytes downloaded 1000 features, total features downloaded 27000\n",
      "[2025-02-20 18:45:14.992621] Getting content from https://data.nola.gov/resource/fdkj-rjrv.geojson  limit=1000 offset=27000\n",
      "[2025-02-20 18:45:15.599362] 1214102 bytes downloaded 1000 features, total features downloaded 28000\n",
      "[2025-02-20 18:45:15.599437] Getting content from https://data.nola.gov/resource/fdkj-rjrv.geojson  limit=1000 offset=28000\n",
      "[2025-02-20 18:45:15.875449] 600581 bytes downloaded 523 features, total features downloaded 28523\n",
      "[2025-02-20 18:45:15.875519] Getting content from https://data.nola.gov/resource/fdkj-rjrv.geojson  limit=1000 offset=29000\n",
      "[2025-02-20 18:45:16.050866] 134 bytes downloaded 0 features, total features downloaded 28523\n",
      "[2025-02-20 18:45:17.546268] Finished writing 28523 bytes to streets.geojson\n"
     ]
    }
   ],
   "source": [
    "for dataset in datasets:\n",
    "    resp = getDataSet(*dataset)"
   ]
  },
  {
   "cell_type": "code",
   "execution_count": null,
   "id": "14e14775-2a84-433f-999d-9e9604765f32",
   "metadata": {},
   "outputs": [],
   "source": [
    "lp(\"Done\")"
   ]
  },
  {
   "cell_type": "code",
   "execution_count": null,
   "id": "8aa92a69-d179-4d24-b5d5-eb24a65b853c",
   "metadata": {},
   "outputs": [],
   "source": []
  }
 ],
 "metadata": {
  "kernelspec": {
   "display_name": "Python 3 (ipykernel)",
   "language": "python",
   "name": "python3"
  },
  "language_info": {
   "codemirror_mode": {
    "name": "ipython",
    "version": 3
   },
   "file_extension": ".py",
   "mimetype": "text/x-python",
   "name": "python",
   "nbconvert_exporter": "python",
   "pygments_lexer": "ipython3",
   "version": "3.11.2"
  }
 },
 "nbformat": 4,
 "nbformat_minor": 5
}
