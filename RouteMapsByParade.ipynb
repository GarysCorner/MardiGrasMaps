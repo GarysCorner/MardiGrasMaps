{
 "cells": [
  {
   "cell_type": "markdown",
   "id": "16e179ca-d3c9-4e37-9089-eff582ed8e7b",
   "metadata": {},
   "source": [
    "# Route Maps by Parade\n",
    "\n",
    "This notebook will attempt to make sensable route maps by parade"
   ]
  },
  {
   "cell_type": "code",
   "execution_count": 1,
   "id": "c8332af1-9559-4d34-beb1-d9e3ef2aa57d",
   "metadata": {},
   "outputs": [],
   "source": [
    "#imports and such\n",
    "from datetime import datetime\n",
    "import geopandas as gpd\n",
    "import geoplot as gplt\n",
    "import os\n",
    "from matplotlib import pyplot as plt\n",
    "import shapely\n",
    "import pyproj\n",
    "import pandas as pd"
   ]
  },
  {
   "cell_type": "code",
   "execution_count": 2,
   "id": "6d779ec3-627a-4ef1-9e27-fdcd0a6f83c8",
   "metadata": {},
   "outputs": [
    {
     "name": "stdout",
     "output_type": "stream",
     "text": [
      "[2025-02-25 16:25:42.584776] Starting...\n"
     ]
    }
   ],
   "source": [
    "def lp(v):\n",
    "    print(f\"[{datetime.now()}] {v}\")\n",
    "\n",
    "lp(\"Starting...\")"
   ]
  },
  {
   "cell_type": "code",
   "execution_count": 3,
   "id": "21e04f84-6fb4-40c4-9d54-60adfa80fda9",
   "metadata": {},
   "outputs": [
    {
     "name": "stdout",
     "output_type": "stream",
     "text": [
      "[2025-02-25 16:25:42.590876] Maps Path:  ./RouteMaps/\n"
     ]
    }
   ],
   "source": [
    "mapsPath = f\"{os.curdir}{os.sep}RouteMaps{os.sep}\"\n",
    "lp(f\"Maps Path:  {mapsPath}\")\n",
    "\n",
    "if not os.path.exists(mapsPath):\n",
    "    lp(f\"Creating  {mapsPath}\")\n",
    "    os.mkdir(mapsPath)"
   ]
  },
  {
   "cell_type": "code",
   "execution_count": 4,
   "id": "44d37545-15b4-4bb3-bcc0-b121cd72f113",
   "metadata": {},
   "outputs": [
    {
     "name": "stdout",
     "output_type": "stream",
     "text": [
      "[2025-02-25 16:25:42.595559] Data Path:  ./datasets/\n"
     ]
    }
   ],
   "source": [
    "dataPath = f\"{os.curdir}{os.sep}datasets{os.sep}\"\n",
    "lp(f\"Data Path:  {dataPath}\")"
   ]
  },
  {
   "cell_type": "code",
   "execution_count": 5,
   "id": "342a1559-cf28-40ce-9d07-38c5bd1383fc",
   "metadata": {},
   "outputs": [
    {
     "data": {
      "text/html": [
       "<div>\n",
       "<style scoped>\n",
       "    .dataframe tbody tr th:only-of-type {\n",
       "        vertical-align: middle;\n",
       "    }\n",
       "\n",
       "    .dataframe tbody tr th {\n",
       "        vertical-align: top;\n",
       "    }\n",
       "\n",
       "    .dataframe thead th {\n",
       "        text-align: right;\n",
       "    }\n",
       "</style>\n",
       "<table border=\"1\" class=\"dataframe\">\n",
       "  <thead>\n",
       "    <tr style=\"text-align: right;\">\n",
       "      <th></th>\n",
       "      <th>location</th>\n",
       "      <th>numfloats</th>\n",
       "      <th>formation</th>\n",
       "      <th>disband</th>\n",
       "      <th>objectid</th>\n",
       "      <th>date</th>\n",
       "      <th>time</th>\n",
       "      <th>shape_stlength</th>\n",
       "      <th>day</th>\n",
       "      <th>geometry</th>\n",
       "    </tr>\n",
       "    <tr>\n",
       "      <th>parade</th>\n",
       "      <th></th>\n",
       "      <th></th>\n",
       "      <th></th>\n",
       "      <th></th>\n",
       "      <th></th>\n",
       "      <th></th>\n",
       "      <th></th>\n",
       "      <th></th>\n",
       "      <th></th>\n",
       "      <th></th>\n",
       "    </tr>\n",
       "  </thead>\n",
       "  <tbody>\n",
       "    <tr>\n",
       "      <th>Chaos</th>\n",
       "      <td>Uptown</td>\n",
       "      <td>None</td>\n",
       "      <td>Napoleon and Magazine</td>\n",
       "      <td>Canal and Roosevelt Way</td>\n",
       "      <td>17</td>\n",
       "      <td>2025-02-27 18:30:00+00:00</td>\n",
       "      <td>6:30pm</td>\n",
       "      <td>18801.130441472782</td>\n",
       "      <td>2nd Thursday</td>\n",
       "      <td>MULTILINESTRING ((-90.10137 29.92082, -90.1018...</td>\n",
       "    </tr>\n",
       "    <tr>\n",
       "      <th>Cleopatra</th>\n",
       "      <td>Uptown</td>\n",
       "      <td>None</td>\n",
       "      <td>Napoleon and Tchoupitoulas</td>\n",
       "      <td>Poydras and Tchoupitoulas</td>\n",
       "      <td>4</td>\n",
       "      <td>2025-02-21 18:00:00+00:00</td>\n",
       "      <td>6:00pm</td>\n",
       "      <td>21161.075592614441</td>\n",
       "      <td>1st Friday</td>\n",
       "      <td>MULTILINESTRING ((-90.10098 29.91716, -90.101 ...</td>\n",
       "    </tr>\n",
       "    <tr>\n",
       "      <th>Krewe Du Vieux</th>\n",
       "      <td>Downtown</td>\n",
       "      <td>None</td>\n",
       "      <td>Marigny and Decatur</td>\n",
       "      <td>Andrew Higgins and S. Peters</td>\n",
       "      <td>34</td>\n",
       "      <td>2025-02-15 18:30:00+00:00</td>\n",
       "      <td>6:30pm</td>\n",
       "      <td>15476.953108061272</td>\n",
       "      <td>Walking Parade</td>\n",
       "      <td>MULTILINESTRING ((-90.05506 29.96271, -90.0551...</td>\n",
       "    </tr>\n",
       "    <tr>\n",
       "      <th>Tucks</th>\n",
       "      <td>Uptown</td>\n",
       "      <td>None</td>\n",
       "      <td>Napoleon and Tchoupitoulas</td>\n",
       "      <td>Poydras and Tchoupitoulas</td>\n",
       "      <td>22</td>\n",
       "      <td>2025-03-01 12:30:00+00:00</td>\n",
       "      <td>12:30pm</td>\n",
       "      <td>21095.835274003577</td>\n",
       "      <td>2nd Saturday</td>\n",
       "      <td>MULTILINESTRING ((-90.10098 29.91716, -90.101 ...</td>\n",
       "    </tr>\n",
       "    <tr>\n",
       "      <th>Bohème</th>\n",
       "      <td>Downtown</td>\n",
       "      <td>None</td>\n",
       "      <td>Decatur St. from Mandeville St to Music St.</td>\n",
       "      <td>Basin St and Canal St.</td>\n",
       "      <td>36</td>\n",
       "      <td>2025-02-14 19:00:00+00:00</td>\n",
       "      <td>7:00pm</td>\n",
       "      <td>12290.192829423802</td>\n",
       "      <td>Walking Parade</td>\n",
       "      <td>MULTILINESTRING ((-90.05392 29.96277, -90.0550...</td>\n",
       "    </tr>\n",
       "  </tbody>\n",
       "</table>\n",
       "</div>"
      ],
      "text/plain": [
       "                location numfloats  \\\n",
       "parade                               \n",
       "Chaos             Uptown      None   \n",
       "Cleopatra         Uptown      None   \n",
       "Krewe Du Vieux  Downtown      None   \n",
       "Tucks             Uptown      None   \n",
       "Bohème          Downtown      None   \n",
       "\n",
       "                                                  formation  \\\n",
       "parade                                                        \n",
       "Chaos                                 Napoleon and Magazine   \n",
       "Cleopatra                        Napoleon and Tchoupitoulas   \n",
       "Krewe Du Vieux                          Marigny and Decatur   \n",
       "Tucks                            Napoleon and Tchoupitoulas   \n",
       "Bohème          Decatur St. from Mandeville St to Music St.   \n",
       "\n",
       "                                     disband objectid  \\\n",
       "parade                                                  \n",
       "Chaos                Canal and Roosevelt Way       17   \n",
       "Cleopatra          Poydras and Tchoupitoulas        4   \n",
       "Krewe Du Vieux  Andrew Higgins and S. Peters       34   \n",
       "Tucks              Poydras and Tchoupitoulas       22   \n",
       "Bohème                Basin St and Canal St.       36   \n",
       "\n",
       "                                    date     time      shape_stlength  \\\n",
       "parade                                                                  \n",
       "Chaos          2025-02-27 18:30:00+00:00   6:30pm  18801.130441472782   \n",
       "Cleopatra      2025-02-21 18:00:00+00:00   6:00pm  21161.075592614441   \n",
       "Krewe Du Vieux 2025-02-15 18:30:00+00:00   6:30pm  15476.953108061272   \n",
       "Tucks          2025-03-01 12:30:00+00:00  12:30pm  21095.835274003577   \n",
       "Bohème         2025-02-14 19:00:00+00:00   7:00pm  12290.192829423802   \n",
       "\n",
       "                           day  \\\n",
       "parade                           \n",
       "Chaos             2nd Thursday   \n",
       "Cleopatra           1st Friday   \n",
       "Krewe Du Vieux  Walking Parade   \n",
       "Tucks             2nd Saturday   \n",
       "Bohème          Walking Parade   \n",
       "\n",
       "                                                         geometry  \n",
       "parade                                                             \n",
       "Chaos           MULTILINESTRING ((-90.10137 29.92082, -90.1018...  \n",
       "Cleopatra       MULTILINESTRING ((-90.10098 29.91716, -90.101 ...  \n",
       "Krewe Du Vieux  MULTILINESTRING ((-90.05506 29.96271, -90.0551...  \n",
       "Tucks           MULTILINESTRING ((-90.10098 29.91716, -90.101 ...  \n",
       "Bohème          MULTILINESTRING ((-90.05392 29.96277, -90.0550...  "
      ]
     },
     "execution_count": 5,
     "metadata": {},
     "output_type": "execute_result"
    }
   ],
   "source": [
    "#all the parade routes\n",
    "routesDf = gpd.read_file(f\"{dataPath}paradeRoutes.geojson\")\n",
    "#routesDf['geometry'] = routesDf['geometry'].map(lambda x: x.geoms[0])\n",
    "routesDf.set_index('parade', inplace=True)\n",
    "routesDf.head()"
   ]
  },
  {
   "cell_type": "code",
   "execution_count": 6,
   "id": "96cd08b9-3375-4ab2-af56-4425c87174f1",
   "metadata": {},
   "outputs": [],
   "source": [
    "#convert multilines to singlelines\n",
    "#routesDf['geometry'] = routesDf['geometry'].map(lambda x: x.geoms[0])"
   ]
  },
  {
   "cell_type": "code",
   "execution_count": 7,
   "id": "0bcd7c4a-d4bd-48a7-9ca5-a7f4d95cc0f9",
   "metadata": {},
   "outputs": [
    {
     "data": {
      "text/html": [
       "<div>\n",
       "<style scoped>\n",
       "    .dataframe tbody tr th:only-of-type {\n",
       "        vertical-align: middle;\n",
       "    }\n",
       "\n",
       "    .dataframe tbody tr th {\n",
       "        vertical-align: top;\n",
       "    }\n",
       "\n",
       "    .dataframe thead th {\n",
       "        text-align: right;\n",
       "    }\n",
       "</style>\n",
       "<table border=\"1\" class=\"dataframe\">\n",
       "  <thead>\n",
       "    <tr style=\"text-align: right;\">\n",
       "      <th></th>\n",
       "      <th>munileft</th>\n",
       "      <th>mtfcc</th>\n",
       "      <th>strtetype</th>\n",
       "      <th>maintby</th>\n",
       "      <th>centerlineid</th>\n",
       "      <th>stateright</th>\n",
       "      <th>fromleft</th>\n",
       "      <th>joinid</th>\n",
       "      <th>roadlevel</th>\n",
       "      <th>lasteditor</th>\n",
       "      <th>...</th>\n",
       "      <th>ctyroute</th>\n",
       "      <th>astrtetype</th>\n",
       "      <th>msagleft</th>\n",
       "      <th>fedrtetype</th>\n",
       "      <th>afedrte</th>\n",
       "      <th>inwater</th>\n",
       "      <th>toleft</th>\n",
       "      <th>shape_stlength</th>\n",
       "      <th>fullnameabv</th>\n",
       "      <th>geometry</th>\n",
       "    </tr>\n",
       "  </thead>\n",
       "  <tbody>\n",
       "    <tr>\n",
       "      <th>0</th>\n",
       "      <td>New Orleans</td>\n",
       "      <td>None</td>\n",
       "      <td>None</td>\n",
       "      <td>None</td>\n",
       "      <td>2501358</td>\n",
       "      <td>LA</td>\n",
       "      <td>6200</td>\n",
       "      <td>460</td>\n",
       "      <td>None</td>\n",
       "      <td>CMARD</td>\n",
       "      <td>...</td>\n",
       "      <td>None</td>\n",
       "      <td>None</td>\n",
       "      <td>None</td>\n",
       "      <td>None</td>\n",
       "      <td>None</td>\n",
       "      <td>None</td>\n",
       "      <td>6298</td>\n",
       "      <td>374.69106670567925</td>\n",
       "      <td>Constance St</td>\n",
       "      <td>MULTILINESTRING ((-90.12482 29.92233, -90.1249...</td>\n",
       "    </tr>\n",
       "    <tr>\n",
       "      <th>1</th>\n",
       "      <td>New Orleans</td>\n",
       "      <td>None</td>\n",
       "      <td>None</td>\n",
       "      <td>None</td>\n",
       "      <td>2507761</td>\n",
       "      <td>LA</td>\n",
       "      <td>2600</td>\n",
       "      <td>873</td>\n",
       "      <td>None</td>\n",
       "      <td>CMARD</td>\n",
       "      <td>...</td>\n",
       "      <td>None</td>\n",
       "      <td>None</td>\n",
       "      <td>None</td>\n",
       "      <td>None</td>\n",
       "      <td>None</td>\n",
       "      <td>None</td>\n",
       "      <td>2698</td>\n",
       "      <td>351.09598315083429</td>\n",
       "      <td>Hamilton St</td>\n",
       "      <td>MULTILINESTRING ((-90.1272 29.96419, -90.12711...</td>\n",
       "    </tr>\n",
       "    <tr>\n",
       "      <th>2</th>\n",
       "      <td>New Orleans</td>\n",
       "      <td>None</td>\n",
       "      <td>None</td>\n",
       "      <td>None</td>\n",
       "      <td>2510743</td>\n",
       "      <td>LA</td>\n",
       "      <td>0</td>\n",
       "      <td>671</td>\n",
       "      <td>None</td>\n",
       "      <td>CMARD</td>\n",
       "      <td>...</td>\n",
       "      <td>None</td>\n",
       "      <td>None</td>\n",
       "      <td>None</td>\n",
       "      <td>None</td>\n",
       "      <td>None</td>\n",
       "      <td>None</td>\n",
       "      <td>0</td>\n",
       "      <td>50.711363770514147</td>\n",
       "      <td>Encampment St</td>\n",
       "      <td>MULTILINESTRING ((-90.08325 29.99944, -90.0832...</td>\n",
       "    </tr>\n",
       "    <tr>\n",
       "      <th>3</th>\n",
       "      <td>New Orleans</td>\n",
       "      <td>None</td>\n",
       "      <td>None</td>\n",
       "      <td>None</td>\n",
       "      <td>2515776</td>\n",
       "      <td>LA</td>\n",
       "      <td>5461</td>\n",
       "      <td>1732</td>\n",
       "      <td>None</td>\n",
       "      <td>DBALBERT</td>\n",
       "      <td>...</td>\n",
       "      <td>None</td>\n",
       "      <td>None</td>\n",
       "      <td>None</td>\n",
       "      <td>None</td>\n",
       "      <td>None</td>\n",
       "      <td>None</td>\n",
       "      <td>5499</td>\n",
       "      <td>165.29887948728282</td>\n",
       "      <td>N Rampart St</td>\n",
       "      <td>MULTILINESTRING ((-90.01771 29.96031, -90.0172...</td>\n",
       "    </tr>\n",
       "    <tr>\n",
       "      <th>4</th>\n",
       "      <td>New Orleans</td>\n",
       "      <td>None</td>\n",
       "      <td>None</td>\n",
       "      <td>None</td>\n",
       "      <td>2522988</td>\n",
       "      <td>LA</td>\n",
       "      <td>10701</td>\n",
       "      <td>1704</td>\n",
       "      <td>None</td>\n",
       "      <td>CMARD</td>\n",
       "      <td>...</td>\n",
       "      <td>None</td>\n",
       "      <td>None</td>\n",
       "      <td>None</td>\n",
       "      <td>None</td>\n",
       "      <td>None</td>\n",
       "      <td>None</td>\n",
       "      <td>10731</td>\n",
       "      <td>252.75257190809734</td>\n",
       "      <td>Prentiss Ave</td>\n",
       "      <td>MULTILINESTRING ((-89.96195 30.0232, -89.96185...</td>\n",
       "    </tr>\n",
       "  </tbody>\n",
       "</table>\n",
       "<p>5 rows × 39 columns</p>\n",
       "</div>"
      ],
      "text/plain": [
       "      munileft mtfcc strtetype maintby centerlineid stateright fromleft  \\\n",
       "0  New Orleans  None      None    None      2501358         LA     6200   \n",
       "1  New Orleans  None      None    None      2507761         LA     2600   \n",
       "2  New Orleans  None      None    None      2510743         LA        0   \n",
       "3  New Orleans  None      None    None      2515776         LA     5461   \n",
       "4  New Orleans  None      None    None      2522988         LA    10701   \n",
       "\n",
       "  joinid roadlevel lasteditor  ... ctyroute astrtetype msagleft fedrtetype  \\\n",
       "0    460      None      CMARD  ...     None       None     None       None   \n",
       "1    873      None      CMARD  ...     None       None     None       None   \n",
       "2    671      None      CMARD  ...     None       None     None       None   \n",
       "3   1732      None   DBALBERT  ...     None       None     None       None   \n",
       "4   1704      None      CMARD  ...     None       None     None       None   \n",
       "\n",
       "  afedrte inwater toleft      shape_stlength    fullnameabv  \\\n",
       "0    None    None   6298  374.69106670567925   Constance St   \n",
       "1    None    None   2698  351.09598315083429    Hamilton St   \n",
       "2    None    None      0  50.711363770514147  Encampment St   \n",
       "3    None    None   5499  165.29887948728282   N Rampart St   \n",
       "4    None    None  10731  252.75257190809734   Prentiss Ave   \n",
       "\n",
       "                                            geometry  \n",
       "0  MULTILINESTRING ((-90.12482 29.92233, -90.1249...  \n",
       "1  MULTILINESTRING ((-90.1272 29.96419, -90.12711...  \n",
       "2  MULTILINESTRING ((-90.08325 29.99944, -90.0832...  \n",
       "3  MULTILINESTRING ((-90.01771 29.96031, -90.0172...  \n",
       "4  MULTILINESTRING ((-89.96195 30.0232, -89.96185...  \n",
       "\n",
       "[5 rows x 39 columns]"
      ]
     },
     "execution_count": 7,
     "metadata": {},
     "output_type": "execute_result"
    }
   ],
   "source": [
    "#all of our streets\n",
    "streetsDf = gpd.read_file(f\"{dataPath}streets.geojson\")\n",
    "streetsDf.head()"
   ]
  },
  {
   "cell_type": "code",
   "execution_count": 8,
   "id": "26f56777-cc56-40ae-a430-f6078b27342d",
   "metadata": {},
   "outputs": [
    {
     "name": "stderr",
     "output_type": "stream",
     "text": [
      "/home/g/.local/share/virtualenvs/MardiGrasMaps-hKReYjzI/lib/python3.11/site-packages/pyogrio/raw.py:198: RuntimeWarning: organizePolygons() received an unexpected geometry.  Either a polygon with interior rings, or a polygon with less than 4 points, or a non-Polygon geometry.  Return arguments as a collection.\n",
      "  return ogr_read(\n",
      "/home/g/.local/share/virtualenvs/MardiGrasMaps-hKReYjzI/lib/python3.11/site-packages/pyogrio/raw.py:198: RuntimeWarning: Geometry of polygon of fid 3 cannot be translated to Simple Geometry. All polygons will be contained in a multipolygon.\n",
      "  return ogr_read(\n",
      "/home/g/.local/share/virtualenvs/MardiGrasMaps-hKReYjzI/lib/python3.11/site-packages/pyogrio/raw.py:198: RuntimeWarning: Geometry of polygon of fid 4 cannot be translated to Simple Geometry. All polygons will be contained in a multipolygon.\n",
      "  return ogr_read(\n",
      "/home/g/.local/share/virtualenvs/MardiGrasMaps-hKReYjzI/lib/python3.11/site-packages/pyogrio/raw.py:198: RuntimeWarning: Geometry of polygon of fid 5 cannot be translated to Simple Geometry. All polygons will be contained in a multipolygon.\n",
      "  return ogr_read(\n"
     ]
    },
    {
     "data": {
      "text/html": [
       "<div>\n",
       "<style scoped>\n",
       "    .dataframe tbody tr th:only-of-type {\n",
       "        vertical-align: middle;\n",
       "    }\n",
       "\n",
       "    .dataframe tbody tr th {\n",
       "        vertical-align: top;\n",
       "    }\n",
       "\n",
       "    .dataframe thead th {\n",
       "        text-align: right;\n",
       "    }\n",
       "</style>\n",
       "<table border=\"1\" class=\"dataframe\">\n",
       "  <thead>\n",
       "    <tr style=\"text-align: right;\">\n",
       "      <th></th>\n",
       "      <th>WATER2_ID</th>\n",
       "      <th>FEATURE</th>\n",
       "      <th>LENGTH</th>\n",
       "      <th>XXX</th>\n",
       "      <th>geometry</th>\n",
       "    </tr>\n",
       "  </thead>\n",
       "  <tbody>\n",
       "    <tr>\n",
       "      <th>0</th>\n",
       "      <td>1</td>\n",
       "      <td>0</td>\n",
       "      <td>0.0</td>\n",
       "      <td>Region</td>\n",
       "      <td>MULTIPOLYGON (((-90.54858 30.16849, -90.54896 ...</td>\n",
       "    </tr>\n",
       "    <tr>\n",
       "      <th>1</th>\n",
       "      <td>2</td>\n",
       "      <td>0</td>\n",
       "      <td>0.0</td>\n",
       "      <td>Region</td>\n",
       "      <td>MULTIPOLYGON (((-90.02944 29.96027, -90.02743 ...</td>\n",
       "    </tr>\n",
       "    <tr>\n",
       "      <th>2</th>\n",
       "      <td>3</td>\n",
       "      <td>0</td>\n",
       "      <td>0.0</td>\n",
       "      <td>Region</td>\n",
       "      <td>MULTIPOLYGON (((-90.3685 30.05726, -90.36874 3...</td>\n",
       "    </tr>\n",
       "    <tr>\n",
       "      <th>3</th>\n",
       "      <td>4</td>\n",
       "      <td>0</td>\n",
       "      <td>0.0</td>\n",
       "      <td>None</td>\n",
       "      <td>MULTIPOLYGON (((-89.4196 30.03959, -89.41818 3...</td>\n",
       "    </tr>\n",
       "    <tr>\n",
       "      <th>4</th>\n",
       "      <td>5</td>\n",
       "      <td>0</td>\n",
       "      <td>0.0</td>\n",
       "      <td>None</td>\n",
       "      <td>MULTIPOLYGON (((-89.37342 30.0375, -89.31526 3...</td>\n",
       "    </tr>\n",
       "  </tbody>\n",
       "</table>\n",
       "</div>"
      ],
      "text/plain": [
       "   WATER2_ID  FEATURE  LENGTH     XXX  \\\n",
       "0          1        0     0.0  Region   \n",
       "1          2        0     0.0  Region   \n",
       "2          3        0     0.0  Region   \n",
       "3          4        0     0.0    None   \n",
       "4          5        0     0.0    None   \n",
       "\n",
       "                                            geometry  \n",
       "0  MULTIPOLYGON (((-90.54858 30.16849, -90.54896 ...  \n",
       "1  MULTIPOLYGON (((-90.02944 29.96027, -90.02743 ...  \n",
       "2  MULTIPOLYGON (((-90.3685 30.05726, -90.36874 3...  \n",
       "3  MULTIPOLYGON (((-89.4196 30.03959, -89.41818 3...  \n",
       "4  MULTIPOLYGON (((-89.37342 30.0375, -89.31526 3...  "
      ]
     },
     "execution_count": 8,
     "metadata": {},
     "output_type": "execute_result"
    }
   ],
   "source": [
    "#this created plenty of warning but we are just loading it so we can see the mississppi and maybe some other water if it comes to that\n",
    "riverDf = gpd.read_file(f\"{dataPath}MississippiRiver.zip\")\n",
    "riverDf.head()"
   ]
  },
  {
   "cell_type": "code",
   "execution_count": 9,
   "id": "69640077-9f3b-4c1b-8602-59da6f5bc555",
   "metadata": {},
   "outputs": [
    {
     "data": {
      "text/plain": [
       "['Alla',\n",
       " 'Babylon',\n",
       " 'Bacchus',\n",
       " 'Barkus',\n",
       " 'Bohème',\n",
       " 'Carrollton',\n",
       " 'Chaos',\n",
       " 'Chewbacchus',\n",
       " 'Choctaw',\n",
       " 'Cleopatra',\n",
       " 'Crescent City',\n",
       " \"D'etat\",\n",
       " 'Druids',\n",
       " 'Elks',\n",
       " 'Endymion',\n",
       " 'Femme Fatale',\n",
       " 'Freret',\n",
       " 'Hermes',\n",
       " 'Iris',\n",
       " 'King Arthur',\n",
       " 'Krewe Du Vieux',\n",
       " 'Mars',\n",
       " 'Mid-City',\n",
       " 'Morpheus',\n",
       " 'Muses',\n",
       " 'NOMTOC',\n",
       " 'Okeanos',\n",
       " 'Orpheus',\n",
       " 'Oshun',\n",
       " 'Pontchartrain',\n",
       " 'Proteus',\n",
       " 'Pygmalion',\n",
       " 'Rex',\n",
       " 'Sparta',\n",
       " 'Thoth',\n",
       " 'Tucks',\n",
       " 'Zulu']"
      ]
     },
     "execution_count": 9,
     "metadata": {},
     "output_type": "execute_result"
    }
   ],
   "source": [
    "sorted(routesDf.index)"
   ]
  },
  {
   "cell_type": "code",
   "execution_count": 17,
   "id": "463d4c6a-1106-4338-a02b-35d31e648c72",
   "metadata": {},
   "outputs": [],
   "source": [
    "class MyTransform:\n",
    "\n",
    "    \n",
    "    \n",
    "    def __init__(self,extent, name):\n",
    "        self.extent = extent\n",
    "        self.name = name\n",
    "        \n",
    "        self.epsg = '32615'\n",
    "        self.epsgRoute = routesDf.loc[[self.name],'geometry'].to_crs(f\"EPSG:{self.epsg}\")\n",
    "\n",
    "        self.UTMtoWGS = pyproj.Transformer.from_crs(self.epsgRoute.crs, routesDf.crs)\n",
    "        \n",
    "\n",
    "    def transform2XY(self,lon,lat):\n",
    "        lonTrans = self.extent[0] - self.extent[2]\n",
    "        latTrans = self.extent[1] - self.extent[3]\n",
    "    \n",
    "        x = abs((lon - self.extent[0]) / lonTrans)\n",
    "        y = abs((lat - self.extent[1]) / latTrans)\n",
    "    \n",
    "        return (x,y)\n",
    "\n",
    "    def figSize(self, figWidth=10):\n",
    "\n",
    "        lonLen = self.extent[2] - self.extent[0]\n",
    "        latLen = self.extent[3] - self.extent[1]\n",
    "\n",
    "        figHeight = figWidth * (latLen / lonLen)\n",
    "        \n",
    "        return (figWidth, figHeight)\n",
    "\n",
    "    def extentWithBuffer(self,setExtent = True, buffer = 0.001):\n",
    "\n",
    "        newExtent = shapely.geometry.box(*self.extent).buffer(buffer).bounds\n",
    "\n",
    "        if setExtent:\n",
    "            self.extent = newExtent\n",
    "        \n",
    "        return newExtent\n",
    "\n",
    "\n",
    "    def xyOnRoute(self, distance):\n",
    "        epsgPoint = self.epsgRoute.interpolate(distance,normalized=True)\n",
    "                \n",
    "        wgsPoint = self.UTMtoWGS.transform(epsgPoint.x, epsgPoint.y)\n",
    "\n",
    "                \n",
    "        return self.transform2XY(wgsPoint[1][0],wgsPoint[0][0])\n",
    "    \n",
    "        \n",
    "        "
   ]
  },
  {
   "cell_type": "code",
   "execution_count": null,
   "id": "10643e2c-ba8b-4505-824a-389255d3ad47",
   "metadata": {},
   "outputs": [
    {
     "name": "stdout",
     "output_type": "stream",
     "text": [
      "[2025-02-25 16:34:07.833046] Creating Map for Chewbacchus\t\tFig Size: (10, 10.123919379498265)\tExtent:  (-90.065688549738, 29.953192035750998, -90.04914601742199, 29.969939562101)\tCRS:  <geoplot.crs.Mercator object at 0x7fac9189ccd0>\n"
     ]
    },
    {
     "name": "stderr",
     "output_type": "stream",
     "text": [
      "/home/g/.local/share/virtualenvs/MardiGrasMaps-hKReYjzI/lib/python3.11/site-packages/pyproj/transformer.py:817: FutureWarning: Calling float on a single element Series is deprecated and will raise a TypeError in the future. Use float(ser.iloc[0]) instead\n",
      "  return self._transformer._transform_point(\n"
     ]
    },
    {
     "name": "stdout",
     "output_type": "stream",
     "text": [
      "[2025-02-25 16:34:08.674425] Finished Chewbacchus in 0:00:00.844247\n"
     ]
    }
   ],
   "source": [
    "streetClasses = ['Local', 'Major Arterial', 'Other', 'Umimproved', 'Ramp','Freeway', 'Minor Arterial', None]\n",
    "\n",
    "\n",
    "\n",
    "def plotParade(name=\"Chewbacchus\", figWidth = 10, savePlot=False):\n",
    "\n",
    "    startTime = datetime.now()\n",
    "\n",
    "    crs = gplt.crs.Mercator()\n",
    "\n",
    "    \n",
    "    myTransform = MyTransform(routesDf.loc[[name],'geometry'].total_bounds, name)\n",
    "\n",
    "    extent = myTransform.extentWithBuffer()\n",
    "\n",
    "    \n",
    "    \n",
    "    figSize =  myTransform.figSize(figWidth)\n",
    "\n",
    "    lp(f\"Creating Map for {name}\\t\\tFig Size: {figSize}\\tExtent:  {extent}\\tCRS:  {crs}\")\n",
    "\n",
    "    \n",
    "    fig, ax = plt.subplots(figsize=figSize, subplot_kw={'projection': crs})\n",
    "\n",
    "    streetNameMask = streetsDf.intersects(routesDf.loc[name,'geometry'])\n",
    "\n",
    "    usefulStreetsList = streetsDf[streetNameMask]['fullnameabv'].unique()\n",
    "\n",
    "    streetMask = streetsDf['fullnameabv'].isin(usefulStreetsList)\n",
    "\n",
    "    streetTypeMask = {}\n",
    "    for st in streetClasses:\n",
    "        streetTypeMask[st] = streetMask & ( streetsDf['roadclass'] == st )\n",
    "\n",
    "\n",
    "    ax.set_facecolor((0.89, 0.886, 0.694))\n",
    "    gplt.polyplot(riverDf, ax=ax, extent=extent, color=(0.588,0.808,1.0), zorder=-2)\n",
    "\n",
    "    #plot street types\n",
    "    gplt.polyplot(streetsDf[streetTypeMask['Freeway']], ax=ax, extent=extent, color=(0.4,0.4,0.4), linewidth=5, zorder=-1)\n",
    "    \n",
    "    gplt.polyplot(streetsDf[streetTypeMask['Local']], ax=ax, extent=extent, color=(0.6,0.6,0.6), linewidth=2, zorder=3)\n",
    "    gplt.polyplot(streetsDf[streetTypeMask['Minor Arterial']], ax=ax, extent=extent, color=(0.55,0.55,0.55), linewidth=3, zorder=4)\n",
    "    gplt.polyplot(streetsDf[streetTypeMask['Major Arterial']], ax=ax, extent=extent, color=(0.5,0.5,0.5), linewidth=4, zorder=5)\n",
    "\n",
    "    ax.text(*myTransform.xyOnRoute(0), 'Start', transform=ax.transAxes,zorder=11,\\\n",
    "           c='black',\\\n",
    "           bbox={'boxstyle':'roundtooth',\n",
    "                'color':'green'\n",
    "               })\n",
    "    \n",
    "    ax.text(*myTransform.xyOnRoute(1), 'Fin', transform=ax.transAxes,zorder=11,\\\n",
    "           c='black',\\\n",
    "           bbox={'boxstyle':'roundtooth',\n",
    "                 'color':'red'\n",
    "                })\n",
    "    \n",
    "    gplt.polyplot(routesDf.loc[[name],'geometry'], ax=ax, extent=extent, edgecolor='purple',linewidth=5, zorder=10, linestyle='dotted')\n",
    "   \n",
    "    \n",
    "    if savePlot:\n",
    "        fig.savefig(f\"{mapsPath}{name}.svg\")\n",
    "        plt.close()\n",
    "\n",
    "    lp(f\"Finished {name} in {datetime.now()-startTime}\")\n",
    "\n",
    "plotParade()"
   ]
  },
  {
   "cell_type": "code",
   "execution_count": 12,
   "id": "eee9a767-85c6-4560-bf71-6c178855ca6b",
   "metadata": {},
   "outputs": [
    {
     "name": "stdout",
     "output_type": "stream",
     "text": [
      "[2025-02-25 16:25:52.539677] Creating all maps and saving...\n",
      "[2025-02-25 16:25:52.540238] calling:  plotParade(Alla, savePlot=True)\n",
      "[2025-02-25 16:25:52.565602] Creating Map for Alla\t\tFig Size: (10, 6.849103004903176)\tExtent:  (-90.11598188915501, 29.919291714901, -90.06515484430099, 29.954103681465)\tCRS:  <geoplot.crs.Mercator object at 0x7fac96a876d0>\n"
     ]
    },
    {
     "name": "stderr",
     "output_type": "stream",
     "text": [
      "/home/g/.local/share/virtualenvs/MardiGrasMaps-hKReYjzI/lib/python3.11/site-packages/pyproj/transformer.py:817: FutureWarning: Calling float on a single element Series is deprecated and will raise a TypeError in the future. Use float(ser.iloc[0]) instead\n",
      "  return self._transformer._transform_point(\n"
     ]
    },
    {
     "name": "stdout",
     "output_type": "stream",
     "text": [
      "[2025-02-25 16:26:01.340102] Finished Alla in 0:00:08.799829\n",
      "[2025-02-25 16:26:01.340251] calling:  plotParade(Babylon, savePlot=True)\n",
      "[2025-02-25 16:26:01.361798] Creating Map for Babylon\t\tFig Size: (10, 9.310473147192152)\tExtent:  (-90.102936988066, 29.919819795492, -90.06611406249499, 29.954103681465)\tCRS:  <geoplot.crs.Mercator object at 0x7faccb3124d0>\n"
     ]
    },
    {
     "name": "stderr",
     "output_type": "stream",
     "text": [
      "/home/g/.local/share/virtualenvs/MardiGrasMaps-hKReYjzI/lib/python3.11/site-packages/pyproj/transformer.py:817: FutureWarning: Calling float on a single element Series is deprecated and will raise a TypeError in the future. Use float(ser.iloc[0]) instead\n",
      "  return self._transformer._transform_point(\n"
     ]
    },
    {
     "name": "stdout",
     "output_type": "stream",
     "text": [
      "[2025-02-25 16:26:07.161061] Finished Babylon in 0:00:05.820785\n",
      "[2025-02-25 16:26:07.161212] calling:  plotParade(Bacchus, savePlot=True)\n",
      "[2025-02-25 16:26:07.182554] Creating Map for Bacchus\t\tFig Size: (10, 9.016019948240151)\tExtent:  (-90.102936988066, 29.916155278351, -90.060847015626, 29.954103681465)\tCRS:  <geoplot.crs.Mercator object at 0x7fac9122d510>\n"
     ]
    },
    {
     "name": "stderr",
     "output_type": "stream",
     "text": [
      "/home/g/.local/share/virtualenvs/MardiGrasMaps-hKReYjzI/lib/python3.11/site-packages/pyproj/transformer.py:817: FutureWarning: Calling float on a single element Series is deprecated and will raise a TypeError in the future. Use float(ser.iloc[0]) instead\n",
      "  return self._transformer._transform_point(\n"
     ]
    },
    {
     "name": "stdout",
     "output_type": "stream",
     "text": [
      "[2025-02-25 16:26:14.808287] Finished Bacchus in 0:00:07.647049\n",
      "[2025-02-25 16:26:14.808464] calling:  plotParade(Barkus, savePlot=True)\n",
      "[2025-02-25 16:26:14.830788] Creating Map for Barkus\t\tFig Size: (10, 9.503481268535829)\tExtent:  (-90.069147185233, 29.956402038474998, -90.06208758278899, 29.963111118434)\tCRS:  <geoplot.crs.Mercator object at 0x7fac91a31290>\n"
     ]
    },
    {
     "name": "stderr",
     "output_type": "stream",
     "text": [
      "/home/g/.local/share/virtualenvs/MardiGrasMaps-hKReYjzI/lib/python3.11/site-packages/pyproj/transformer.py:817: FutureWarning: Calling float on a single element Series is deprecated and will raise a TypeError in the future. Use float(ser.iloc[0]) instead\n",
      "  return self._transformer._transform_point(\n"
     ]
    },
    {
     "name": "stdout",
     "output_type": "stream",
     "text": [
      "[2025-02-25 16:26:16.217500] Finished Barkus in 0:00:01.409011\n",
      "[2025-02-25 16:26:16.217642] calling:  plotParade(Bohème, savePlot=True)\n",
      "[2025-02-25 16:26:16.239204] Creating Map for Bohème\t\tFig Size: (10, 9.439759195628257)\tExtent:  (-90.070230493538, 29.949174218733, -90.05292285608199, 29.965512211716)\tCRS:  <geoplot.crs.Mercator object at 0x7fac8932ae10>\n"
     ]
    },
    {
     "name": "stderr",
     "output_type": "stream",
     "text": [
      "/home/g/.local/share/virtualenvs/MardiGrasMaps-hKReYjzI/lib/python3.11/site-packages/pyproj/transformer.py:817: FutureWarning: Calling float on a single element Series is deprecated and will raise a TypeError in the future. Use float(ser.iloc[0]) instead\n",
      "  return self._transformer._transform_point(\n"
     ]
    },
    {
     "name": "stdout",
     "output_type": "stream",
     "text": [
      "[2025-02-25 16:26:20.419715] Finished Bohème in 0:00:04.202050\n",
      "[2025-02-25 16:26:20.419887] calling:  plotParade(Carrollton, savePlot=True)\n",
      "[2025-02-25 16:26:20.442725] Creating Map for Carrollton\t\tFig Size: (10, 6.849103004903176)\tExtent:  (-90.11598188915501, 29.919291714901, -90.06515484430099, 29.954103681465)\tCRS:  <geoplot.crs.Mercator object at 0x7fac8886bb90>\n"
     ]
    },
    {
     "name": "stderr",
     "output_type": "stream",
     "text": [
      "/home/g/.local/share/virtualenvs/MardiGrasMaps-hKReYjzI/lib/python3.11/site-packages/pyproj/transformer.py:817: FutureWarning: Calling float on a single element Series is deprecated and will raise a TypeError in the future. Use float(ser.iloc[0]) instead\n",
      "  return self._transformer._transform_point(\n"
     ]
    },
    {
     "name": "stdout",
     "output_type": "stream",
     "text": [
      "[2025-02-25 16:26:27.300509] Finished Carrollton in 0:00:06.880595\n",
      "[2025-02-25 16:26:27.300690] calling:  plotParade(Chaos, savePlot=True)\n",
      "[2025-02-25 16:26:27.321788] Creating Map for Chaos\t\tFig Size: (10, 10.388729025992134)\tExtent:  (-90.102936988066, 29.919819795492, -90.068166527498, 29.955941884787002)\tCRS:  <geoplot.crs.Mercator object at 0x7fac87c19350>\n"
     ]
    },
    {
     "name": "stderr",
     "output_type": "stream",
     "text": [
      "/home/g/.local/share/virtualenvs/MardiGrasMaps-hKReYjzI/lib/python3.11/site-packages/pyproj/transformer.py:817: FutureWarning: Calling float on a single element Series is deprecated and will raise a TypeError in the future. Use float(ser.iloc[0]) instead\n",
      "  return self._transformer._transform_point(\n"
     ]
    },
    {
     "name": "stdout",
     "output_type": "stream",
     "text": [
      "[2025-02-25 16:26:33.547938] Finished Chaos in 0:00:06.247226\n",
      "[2025-02-25 16:26:33.548122] calling:  plotParade(Chewbacchus, savePlot=True)\n",
      "[2025-02-25 16:26:33.569407] Creating Map for Chewbacchus\t\tFig Size: (10, 10.123919379498265)\tExtent:  (-90.065688549738, 29.953192035750998, -90.04914601742199, 29.969939562101)\tCRS:  <geoplot.crs.Mercator object at 0x7fac84a49590>\n"
     ]
    },
    {
     "name": "stderr",
     "output_type": "stream",
     "text": [
      "/home/g/.local/share/virtualenvs/MardiGrasMaps-hKReYjzI/lib/python3.11/site-packages/pyproj/transformer.py:817: FutureWarning: Calling float on a single element Series is deprecated and will raise a TypeError in the future. Use float(ser.iloc[0]) instead\n",
      "  return self._transformer._transform_point(\n"
     ]
    },
    {
     "name": "stdout",
     "output_type": "stream",
     "text": [
      "[2025-02-25 16:26:37.264379] Finished Chewbacchus in 0:00:03.716234\n",
      "[2025-02-25 16:26:37.264577] calling:  plotParade(Choctaw, savePlot=True)\n",
      "[2025-02-25 16:26:37.287828] Creating Map for Choctaw\t\tFig Size: (10, 10.044004742033934)\tExtent:  (-90.102936988066, 29.916155278351, -90.06515484430099, 29.954103681465)\tCRS:  <geoplot.crs.Mercator object at 0x7fac84958350>\n"
     ]
    },
    {
     "name": "stderr",
     "output_type": "stream",
     "text": [
      "/home/g/.local/share/virtualenvs/MardiGrasMaps-hKReYjzI/lib/python3.11/site-packages/pyproj/transformer.py:817: FutureWarning: Calling float on a single element Series is deprecated and will raise a TypeError in the future. Use float(ser.iloc[0]) instead\n",
      "  return self._transformer._transform_point(\n"
     ]
    },
    {
     "name": "stdout",
     "output_type": "stream",
     "text": [
      "[2025-02-25 16:26:44.437496] Finished Choctaw in 0:00:07.172896\n",
      "[2025-02-25 16:26:44.437708] calling:  plotParade(Cleopatra, savePlot=True)\n",
      "[2025-02-25 16:26:44.459893] Creating Map for Cleopatra\t\tFig Size: (10, 10.044004742033934)\tExtent:  (-90.102936988066, 29.916155278351, -90.06515484430099, 29.954103681465)\tCRS:  <geoplot.crs.Mercator object at 0x7fac81bbce50>\n"
     ]
    },
    {
     "name": "stderr",
     "output_type": "stream",
     "text": [
      "/home/g/.local/share/virtualenvs/MardiGrasMaps-hKReYjzI/lib/python3.11/site-packages/pyproj/transformer.py:817: FutureWarning: Calling float on a single element Series is deprecated and will raise a TypeError in the future. Use float(ser.iloc[0]) instead\n",
      "  return self._transformer._transform_point(\n"
     ]
    },
    {
     "name": "stdout",
     "output_type": "stream",
     "text": [
      "[2025-02-25 16:26:51.412769] Finished Cleopatra in 0:00:06.975029\n",
      "[2025-02-25 16:26:51.412987] calling:  plotParade(Crescent City, savePlot=True)\n",
      "[2025-02-25 16:26:51.438266] Creating Map for Crescent City\t\tFig Size: (10, 11.16478431240097)\tExtent:  (-90.09125585612, 29.927602183913997, -90.069623623876, 29.951754104634002)\tCRS:  <geoplot.crs.Mercator object at 0x7fac7f244110>\n"
     ]
    },
    {
     "name": "stderr",
     "output_type": "stream",
     "text": [
      "/home/g/.local/share/virtualenvs/MardiGrasMaps-hKReYjzI/lib/python3.11/site-packages/pyproj/transformer.py:817: FutureWarning: Calling float on a single element Series is deprecated and will raise a TypeError in the future. Use float(ser.iloc[0]) instead\n",
      "  return self._transformer._transform_point(\n"
     ]
    },
    {
     "name": "stdout",
     "output_type": "stream",
     "text": [
      "[2025-02-25 16:26:56.056822] Finished Crescent City in 0:00:04.643813\n",
      "[2025-02-25 16:26:56.056967] calling:  plotParade(D'etat, savePlot=True)\n",
      "[2025-02-25 16:26:56.078900] Creating Map for D'etat\t\tFig Size: (10, 7.028626843976301)\tExtent:  (-90.11598188915501, 29.919291714901, -90.066385792774, 29.954150960339)\tCRS:  <geoplot.crs.Mercator object at 0x7fac7d20d690>\n"
     ]
    },
    {
     "name": "stderr",
     "output_type": "stream",
     "text": [
      "/home/g/.local/share/virtualenvs/MardiGrasMaps-hKReYjzI/lib/python3.11/site-packages/pyproj/transformer.py:817: FutureWarning: Calling float on a single element Series is deprecated and will raise a TypeError in the future. Use float(ser.iloc[0]) instead\n",
      "  return self._transformer._transform_point(\n"
     ]
    },
    {
     "name": "stdout",
     "output_type": "stream",
     "text": [
      "[2025-02-25 16:27:02.913313] Finished D'etat in 0:00:06.856321\n",
      "[2025-02-25 16:27:02.913488] calling:  plotParade(Druids, savePlot=True)\n",
      "[2025-02-25 16:27:02.935562] Creating Map for Druids\t\tFig Size: (10, 6.849103004903176)\tExtent:  (-90.11598188915501, 29.919291714901, -90.06515484430099, 29.954103681465)\tCRS:  <geoplot.crs.Mercator object at 0x7fac7c500650>\n"
     ]
    },
    {
     "name": "stderr",
     "output_type": "stream",
     "text": [
      "/home/g/.local/share/virtualenvs/MardiGrasMaps-hKReYjzI/lib/python3.11/site-packages/pyproj/transformer.py:817: FutureWarning: Calling float on a single element Series is deprecated and will raise a TypeError in the future. Use float(ser.iloc[0]) instead\n",
      "  return self._transformer._transform_point(\n"
     ]
    },
    {
     "name": "stdout",
     "output_type": "stream",
     "text": [
      "[2025-02-25 16:27:10.333764] Finished Druids in 0:00:07.420253\n",
      "[2025-02-25 16:27:10.333948] calling:  plotParade(Elks, savePlot=True)\n",
      "[2025-02-25 16:27:10.356606] Creating Map for Elks\t\tFig Size: (10, 11.16478431240097)\tExtent:  (-90.09125585612, 29.927602183913997, -90.069623623876, 29.951754104634002)\tCRS:  <geoplot.crs.Mercator object at 0x7fac79593490>\n"
     ]
    },
    {
     "name": "stderr",
     "output_type": "stream",
     "text": [
      "/home/g/.local/share/virtualenvs/MardiGrasMaps-hKReYjzI/lib/python3.11/site-packages/pyproj/transformer.py:817: FutureWarning: Calling float on a single element Series is deprecated and will raise a TypeError in the future. Use float(ser.iloc[0]) instead\n",
      "  return self._transformer._transform_point(\n"
     ]
    },
    {
     "name": "stdout",
     "output_type": "stream",
     "text": [
      "[2025-02-25 16:27:13.783888] Finished Elks in 0:00:03.449914\n",
      "[2025-02-25 16:27:13.784042] calling:  plotParade(Endymion, savePlot=True)\n",
      "[2025-02-25 16:27:13.806088] Creating Map for Endymion\t\tFig Size: (10, 12.121706625602995)\tExtent:  (-90.103706713421, 29.941884414594, -90.068158934732, 29.98497438904)\tCRS:  <geoplot.crs.Mercator object at 0x7fac773b9e50>\n"
     ]
    },
    {
     "name": "stderr",
     "output_type": "stream",
     "text": [
      "/home/g/.local/share/virtualenvs/MardiGrasMaps-hKReYjzI/lib/python3.11/site-packages/pyproj/transformer.py:817: FutureWarning: Calling float on a single element Series is deprecated and will raise a TypeError in the future. Use float(ser.iloc[0]) instead\n",
      "  return self._transformer._transform_point(\n"
     ]
    },
    {
     "name": "stdout",
     "output_type": "stream",
     "text": [
      "[2025-02-25 16:27:20.504262] Finished Endymion in 0:00:06.720198\n",
      "[2025-02-25 16:27:20.504424] calling:  plotParade(Femme Fatale, savePlot=True)\n",
      "[2025-02-25 16:27:20.525288] Creating Map for Femme Fatale\t\tFig Size: (10, 9.074097591240095)\tExtent:  (-90.102936988066, 29.919819795492, -90.06515484430099, 29.954103681465)\tCRS:  <geoplot.crs.Mercator object at 0x7fac7646a610>\n"
     ]
    },
    {
     "name": "stderr",
     "output_type": "stream",
     "text": [
      "/home/g/.local/share/virtualenvs/MardiGrasMaps-hKReYjzI/lib/python3.11/site-packages/pyproj/transformer.py:817: FutureWarning: Calling float on a single element Series is deprecated and will raise a TypeError in the future. Use float(ser.iloc[0]) instead\n",
      "  return self._transformer._transform_point(\n"
     ]
    },
    {
     "name": "stdout",
     "output_type": "stream",
     "text": [
      "[2025-02-25 16:27:26.200401] Finished Femme Fatale in 0:00:05.695954\n",
      "[2025-02-25 16:27:26.200561] calling:  plotParade(Freret, savePlot=True)\n",
      "[2025-02-25 16:27:26.221787] Creating Map for Freret\t\tFig Size: (10, 10.044004742033934)\tExtent:  (-90.102936988066, 29.916155278351, -90.06515484430099, 29.954103681465)\tCRS:  <geoplot.crs.Mercator object at 0x7fac73bb25d0>\n"
     ]
    },
    {
     "name": "stderr",
     "output_type": "stream",
     "text": [
      "/home/g/.local/share/virtualenvs/MardiGrasMaps-hKReYjzI/lib/python3.11/site-packages/pyproj/transformer.py:817: FutureWarning: Calling float on a single element Series is deprecated and will raise a TypeError in the future. Use float(ser.iloc[0]) instead\n",
      "  return self._transformer._transform_point(\n"
     ]
    },
    {
     "name": "stdout",
     "output_type": "stream",
     "text": [
      "[2025-02-25 16:27:33.511113] Finished Freret in 0:00:07.310529\n",
      "[2025-02-25 16:27:33.511270] calling:  plotParade(Hermes, savePlot=True)\n",
      "[2025-02-25 16:27:33.533844] Creating Map for Hermes\t\tFig Size: (10, 7.565730075420733)\tExtent:  (-90.11629633310301, 29.918897605599998, -90.068166527498, 29.955311317379)\tCRS:  <geoplot.crs.Mercator object at 0x7fac721ed910>\n"
     ]
    },
    {
     "name": "stderr",
     "output_type": "stream",
     "text": [
      "/home/g/.local/share/virtualenvs/MardiGrasMaps-hKReYjzI/lib/python3.11/site-packages/pyproj/transformer.py:817: FutureWarning: Calling float on a single element Series is deprecated and will raise a TypeError in the future. Use float(ser.iloc[0]) instead\n",
      "  return self._transformer._transform_point(\n"
     ]
    },
    {
     "name": "stdout",
     "output_type": "stream",
     "text": [
      "[2025-02-25 16:27:39.965788] Finished Hermes in 0:00:06.454497\n",
      "[2025-02-25 16:27:39.965957] calling:  plotParade(Iris, savePlot=True)\n",
      "[2025-02-25 16:27:39.986417] Creating Map for Iris\t\tFig Size: (10, 7.449997857020704)\tExtent:  (-90.103691986966, 29.925393518438, -90.06515484430099, 29.954103681465)\tCRS:  <geoplot.crs.Mercator object at 0x7fac70092610>\n"
     ]
    },
    {
     "name": "stderr",
     "output_type": "stream",
     "text": [
      "/home/g/.local/share/virtualenvs/MardiGrasMaps-hKReYjzI/lib/python3.11/site-packages/pyproj/transformer.py:817: FutureWarning: Calling float on a single element Series is deprecated and will raise a TypeError in the future. Use float(ser.iloc[0]) instead\n",
      "  return self._transformer._transform_point(\n"
     ]
    },
    {
     "name": "stdout",
     "output_type": "stream",
     "text": [
      "[2025-02-25 16:27:45.452667] Finished Iris in 0:00:05.486688\n",
      "[2025-02-25 16:27:45.452816] calling:  plotParade(King Arthur, savePlot=True)\n",
      "[2025-02-25 16:27:45.474711] Creating Map for King Arthur\t\tFig Size: (10, 6.849103004903176)\tExtent:  (-90.11598188915501, 29.919291714901, -90.06515484430099, 29.954103681465)\tCRS:  <geoplot.crs.Mercator object at 0x7fac6ccfc050>\n"
     ]
    },
    {
     "name": "stderr",
     "output_type": "stream",
     "text": [
      "/home/g/.local/share/virtualenvs/MardiGrasMaps-hKReYjzI/lib/python3.11/site-packages/pyproj/transformer.py:817: FutureWarning: Calling float on a single element Series is deprecated and will raise a TypeError in the future. Use float(ser.iloc[0]) instead\n",
      "  return self._transformer._transform_point(\n"
     ]
    },
    {
     "name": "stdout",
     "output_type": "stream",
     "text": [
      "[2025-02-25 16:27:53.497721] Finished King Arthur in 0:00:08.044883\n",
      "[2025-02-25 16:27:53.497869] calling:  plotParade(Krewe Du Vieux, savePlot=True)\n",
      "[2025-02-25 16:27:53.519896] Creating Map for Krewe Du Vieux\t\tFig Size: (10, 14.238048401072183)\tExtent:  (-90.068580978068, 29.939996649435997, -90.050380468489, 29.965910623067)\tCRS:  <geoplot.crs.Mercator object at 0x7fac6b7e2610>\n"
     ]
    },
    {
     "name": "stderr",
     "output_type": "stream",
     "text": [
      "/home/g/.local/share/virtualenvs/MardiGrasMaps-hKReYjzI/lib/python3.11/site-packages/pyproj/transformer.py:817: FutureWarning: Calling float on a single element Series is deprecated and will raise a TypeError in the future. Use float(ser.iloc[0]) instead\n",
      "  return self._transformer._transform_point(\n"
     ]
    },
    {
     "name": "stdout",
     "output_type": "stream",
     "text": [
      "[2025-02-25 16:27:57.570331] Finished Krewe Du Vieux in 0:00:04.072440\n",
      "[2025-02-25 16:27:57.570476] calling:  plotParade(Mars, savePlot=True)\n",
      "[2025-02-25 16:27:57.591529] Creating Map for Mars\t\tFig Size: (10, 7.9581420622946775)\tExtent:  (-90.102936988066, 29.924036114714998, -90.06515484430099, 29.954103681465)\tCRS:  <geoplot.crs.Mercator object at 0x7fac6b032a50>\n"
     ]
    },
    {
     "name": "stderr",
     "output_type": "stream",
     "text": [
      "/home/g/.local/share/virtualenvs/MardiGrasMaps-hKReYjzI/lib/python3.11/site-packages/pyproj/transformer.py:817: FutureWarning: Calling float on a single element Series is deprecated and will raise a TypeError in the future. Use float(ser.iloc[0]) instead\n",
      "  return self._transformer._transform_point(\n"
     ]
    },
    {
     "name": "stdout",
     "output_type": "stream",
     "text": [
      "[2025-02-25 16:28:02.755271] Finished Mars in 0:00:05.184773\n",
      "[2025-02-25 16:28:02.755444] calling:  plotParade(Mid-City, savePlot=True)\n",
      "[2025-02-25 16:28:02.776831] Creating Map for Mid-City\t\tFig Size: (10, 7.081328598191953)\tExtent:  (-90.11598188915501, 29.919291714901, -90.066821670022, 29.954103681465)\tCRS:  <geoplot.crs.Mercator object at 0x7fac67399f10>\n"
     ]
    },
    {
     "name": "stderr",
     "output_type": "stream",
     "text": [
      "/home/g/.local/share/virtualenvs/MardiGrasMaps-hKReYjzI/lib/python3.11/site-packages/pyproj/transformer.py:817: FutureWarning: Calling float on a single element Series is deprecated and will raise a TypeError in the future. Use float(ser.iloc[0]) instead\n",
      "  return self._transformer._transform_point(\n"
     ]
    },
    {
     "name": "stdout",
     "output_type": "stream",
     "text": [
      "[2025-02-25 16:28:09.149896] Finished Mid-City in 0:00:06.394426\n",
      "[2025-02-25 16:28:09.150051] calling:  plotParade(Morpheus, savePlot=True)\n",
      "[2025-02-25 16:28:09.171559] Creating Map for Morpheus\t\tFig Size: (10, 6.849103004903176)\tExtent:  (-90.11598188915501, 29.919291714901, -90.06515484430099, 29.954103681465)\tCRS:  <geoplot.crs.Mercator object at 0x7fac6535a5d0>\n"
     ]
    },
    {
     "name": "stderr",
     "output_type": "stream",
     "text": [
      "/home/g/.local/share/virtualenvs/MardiGrasMaps-hKReYjzI/lib/python3.11/site-packages/pyproj/transformer.py:817: FutureWarning: Calling float on a single element Series is deprecated and will raise a TypeError in the future. Use float(ser.iloc[0]) instead\n",
      "  return self._transformer._transform_point(\n"
     ]
    },
    {
     "name": "stdout",
     "output_type": "stream",
     "text": [
      "[2025-02-25 16:28:15.784153] Finished Morpheus in 0:00:06.634077\n",
      "[2025-02-25 16:28:15.784331] calling:  plotParade(Muses, savePlot=True)\n",
      "[2025-02-25 16:28:15.806963] Creating Map for Muses\t\tFig Size: (10, 6.849103004903176)\tExtent:  (-90.11598188915501, 29.919291714901, -90.06515484430099, 29.954103681465)\tCRS:  <geoplot.crs.Mercator object at 0x7fac632c4c10>\n"
     ]
    },
    {
     "name": "stderr",
     "output_type": "stream",
     "text": [
      "/home/g/.local/share/virtualenvs/MardiGrasMaps-hKReYjzI/lib/python3.11/site-packages/pyproj/transformer.py:817: FutureWarning: Calling float on a single element Series is deprecated and will raise a TypeError in the future. Use float(ser.iloc[0]) instead\n",
      "  return self._transformer._transform_point(\n"
     ]
    },
    {
     "name": "stdout",
     "output_type": "stream",
     "text": [
      "[2025-02-25 16:28:23.943326] Finished Muses in 0:00:08.158971\n",
      "[2025-02-25 16:28:23.943477] calling:  plotParade(NOMTOC, savePlot=True)\n",
      "[2025-02-25 16:28:23.964275] Creating Map for NOMTOC\t\tFig Size: (10, 4.310906513702966)\tExtent:  (-90.053199806652, 29.928713118382998, -90.01177394284299, 29.946571420996)\tCRS:  <geoplot.crs.Mercator object at 0x7fac60ddf350>\n"
     ]
    },
    {
     "name": "stderr",
     "output_type": "stream",
     "text": [
      "/home/g/.local/share/virtualenvs/MardiGrasMaps-hKReYjzI/lib/python3.11/site-packages/pyproj/transformer.py:817: FutureWarning: Calling float on a single element Series is deprecated and will raise a TypeError in the future. Use float(ser.iloc[0]) instead\n",
      "  return self._transformer._transform_point(\n"
     ]
    },
    {
     "name": "stdout",
     "output_type": "stream",
     "text": [
      "[2025-02-25 16:28:26.896751] Finished NOMTOC in 0:00:02.953247\n",
      "[2025-02-25 16:28:26.896897] calling:  plotParade(Okeanos, savePlot=True)\n",
      "[2025-02-25 16:28:26.918866] Creating Map for Okeanos\t\tFig Size: (10, 6.849103004903176)\tExtent:  (-90.11598188915501, 29.919291714901, -90.06515484430099, 29.954103681465)\tCRS:  <geoplot.crs.Mercator object at 0x7fac5e352890>\n"
     ]
    },
    {
     "name": "stderr",
     "output_type": "stream",
     "text": [
      "/home/g/.local/share/virtualenvs/MardiGrasMaps-hKReYjzI/lib/python3.11/site-packages/pyproj/transformer.py:817: FutureWarning: Calling float on a single element Series is deprecated and will raise a TypeError in the future. Use float(ser.iloc[0]) instead\n",
      "  return self._transformer._transform_point(\n"
     ]
    },
    {
     "name": "stdout",
     "output_type": "stream",
     "text": [
      "[2025-02-25 16:28:33.379414] Finished Okeanos in 0:00:06.482491\n",
      "[2025-02-25 16:28:33.379577] calling:  plotParade(Orpheus, savePlot=True)\n",
      "[2025-02-25 16:28:33.401524] Creating Map for Orpheus\t\tFig Size: (10, 9.016019948240151)\tExtent:  (-90.102936988066, 29.916155278351, -90.060847015626, 29.954103681465)\tCRS:  <geoplot.crs.Mercator object at 0x7fac5d414510>\n"
     ]
    },
    {
     "name": "stderr",
     "output_type": "stream",
     "text": [
      "/home/g/.local/share/virtualenvs/MardiGrasMaps-hKReYjzI/lib/python3.11/site-packages/pyproj/transformer.py:817: FutureWarning: Calling float on a single element Series is deprecated and will raise a TypeError in the future. Use float(ser.iloc[0]) instead\n",
      "  return self._transformer._transform_point(\n"
     ]
    },
    {
     "name": "stdout",
     "output_type": "stream",
     "text": [
      "[2025-02-25 16:28:40.018760] Finished Orpheus in 0:00:06.639160\n",
      "[2025-02-25 16:28:40.018931] calling:  plotParade(Oshun, savePlot=True)\n",
      "[2025-02-25 16:28:40.041040] Creating Map for Oshun\t\tFig Size: (10, 9.074097591240095)\tExtent:  (-90.102936988066, 29.919819795492, -90.06515484430099, 29.954103681465)\tCRS:  <geoplot.crs.Mercator object at 0x7fac5af23210>\n"
     ]
    },
    {
     "name": "stderr",
     "output_type": "stream",
     "text": [
      "/home/g/.local/share/virtualenvs/MardiGrasMaps-hKReYjzI/lib/python3.11/site-packages/pyproj/transformer.py:817: FutureWarning: Calling float on a single element Series is deprecated and will raise a TypeError in the future. Use float(ser.iloc[0]) instead\n",
      "  return self._transformer._transform_point(\n"
     ]
    },
    {
     "name": "stdout",
     "output_type": "stream",
     "text": [
      "[2025-02-25 16:28:45.802546] Finished Oshun in 0:00:05.783592\n",
      "[2025-02-25 16:28:45.802720] calling:  plotParade(Pontchartrain, savePlot=True)\n",
      "[2025-02-25 16:28:45.825802] Creating Map for Pontchartrain\t\tFig Size: (10, 10.044004742033934)\tExtent:  (-90.102936988066, 29.916155278351, -90.06515484430099, 29.954103681465)\tCRS:  <geoplot.crs.Mercator object at 0x7fac59c5a610>\n"
     ]
    },
    {
     "name": "stderr",
     "output_type": "stream",
     "text": [
      "/home/g/.local/share/virtualenvs/MardiGrasMaps-hKReYjzI/lib/python3.11/site-packages/pyproj/transformer.py:817: FutureWarning: Calling float on a single element Series is deprecated and will raise a TypeError in the future. Use float(ser.iloc[0]) instead\n",
      "  return self._transformer._transform_point(\n"
     ]
    },
    {
     "name": "stdout",
     "output_type": "stream",
     "text": [
      "[2025-02-25 16:28:52.016826] Finished Pontchartrain in 0:00:06.214083\n",
      "[2025-02-25 16:28:52.016977] calling:  plotParade(Proteus, savePlot=True)\n",
      "[2025-02-25 16:28:52.038103] Creating Map for Proteus\t\tFig Size: (10, 9.39345142844376)\tExtent:  (-90.102936988066, 29.919819795492, -90.066262381063, 29.954269909446)\tCRS:  <geoplot.crs.Mercator object at 0x7fac56d1a610>\n"
     ]
    },
    {
     "name": "stderr",
     "output_type": "stream",
     "text": [
      "/home/g/.local/share/virtualenvs/MardiGrasMaps-hKReYjzI/lib/python3.11/site-packages/pyproj/transformer.py:817: FutureWarning: Calling float on a single element Series is deprecated and will raise a TypeError in the future. Use float(ser.iloc[0]) instead\n",
      "  return self._transformer._transform_point(\n"
     ]
    },
    {
     "name": "stdout",
     "output_type": "stream",
     "text": [
      "[2025-02-25 16:28:59.624050] Finished Proteus in 0:00:07.607051\n",
      "[2025-02-25 16:28:59.624236] calling:  plotParade(Pygmalion, savePlot=True)\n",
      "[2025-02-25 16:28:59.646114] Creating Map for Pygmalion\t\tFig Size: (10, 6.849103004903176)\tExtent:  (-90.11598188915501, 29.919291714901, -90.06515484430099, 29.954103681465)\tCRS:  <geoplot.crs.Mercator object at 0x7fac5447a810>\n"
     ]
    },
    {
     "name": "stderr",
     "output_type": "stream",
     "text": [
      "/home/g/.local/share/virtualenvs/MardiGrasMaps-hKReYjzI/lib/python3.11/site-packages/pyproj/transformer.py:817: FutureWarning: Calling float on a single element Series is deprecated and will raise a TypeError in the future. Use float(ser.iloc[0]) instead\n",
      "  return self._transformer._transform_point(\n"
     ]
    },
    {
     "name": "stdout",
     "output_type": "stream",
     "text": [
      "[2025-02-25 16:29:06.066452] Finished Pygmalion in 0:00:06.442194\n",
      "[2025-02-25 16:29:06.066617] calling:  plotParade(Rex, savePlot=True)\n",
      "[2025-02-25 16:29:06.087649] Creating Map for Rex\t\tFig Size: (10, 7.283204541603762)\tExtent:  (-90.1045745295, 29.925393518438, -90.06515484430099, 29.954103681465)\tCRS:  <geoplot.crs.Mercator object at 0x7fac52933510>\n"
     ]
    },
    {
     "name": "stderr",
     "output_type": "stream",
     "text": [
      "/home/g/.local/share/virtualenvs/MardiGrasMaps-hKReYjzI/lib/python3.11/site-packages/pyproj/transformer.py:817: FutureWarning: Calling float on a single element Series is deprecated and will raise a TypeError in the future. Use float(ser.iloc[0]) instead\n",
      "  return self._transformer._transform_point(\n"
     ]
    },
    {
     "name": "stdout",
     "output_type": "stream",
     "text": [
      "[2025-02-25 16:29:12.627957] Finished Rex in 0:00:06.561316\n",
      "[2025-02-25 16:29:12.628121] calling:  plotParade(Sparta, savePlot=True)\n",
      "[2025-02-25 16:29:12.653426] Creating Map for Sparta\t\tFig Size: (10, 6.849103004903176)\tExtent:  (-90.11598188915501, 29.919291714901, -90.06515484430099, 29.954103681465)\tCRS:  <geoplot.crs.Mercator object at 0x7fac5011d910>\n"
     ]
    },
    {
     "name": "stderr",
     "output_type": "stream",
     "text": [
      "/home/g/.local/share/virtualenvs/MardiGrasMaps-hKReYjzI/lib/python3.11/site-packages/pyproj/transformer.py:817: FutureWarning: Calling float on a single element Series is deprecated and will raise a TypeError in the future. Use float(ser.iloc[0]) instead\n",
      "  return self._transformer._transform_point(\n"
     ]
    },
    {
     "name": "stdout",
     "output_type": "stream",
     "text": [
      "[2025-02-25 16:29:19.097399] Finished Sparta in 0:00:06.469256\n",
      "[2025-02-25 16:29:19.097558] calling:  plotParade(Thoth, savePlot=True)\n",
      "[2025-02-25 16:29:19.118553] Creating Map for Thoth\t\tFig Size: (10, 6.025528010028259)\tExtent:  (-90.127541802555, 29.916512245023, -90.06515484430099, 29.954103681465)\tCRS:  <geoplot.crs.Mercator object at 0x7fac4d980110>\n"
     ]
    },
    {
     "name": "stderr",
     "output_type": "stream",
     "text": [
      "/home/g/.local/share/virtualenvs/MardiGrasMaps-hKReYjzI/lib/python3.11/site-packages/pyproj/transformer.py:817: FutureWarning: Calling float on a single element Series is deprecated and will raise a TypeError in the future. Use float(ser.iloc[0]) instead\n",
      "  return self._transformer._transform_point(\n"
     ]
    },
    {
     "name": "stdout",
     "output_type": "stream",
     "text": [
      "[2025-02-25 16:29:26.762641] Finished Thoth in 0:00:07.665059\n",
      "[2025-02-25 16:29:26.762813] calling:  plotParade(Tucks, savePlot=True)\n",
      "[2025-02-25 16:29:26.785558] Creating Map for Tucks\t\tFig Size: (10, 10.088001181737079)\tExtent:  (-90.102936988066, 29.916155278351, -90.06515484430099, 29.954269909446)\tCRS:  <geoplot.crs.Mercator object at 0x7fac4b108610>\n"
     ]
    },
    {
     "name": "stderr",
     "output_type": "stream",
     "text": [
      "/home/g/.local/share/virtualenvs/MardiGrasMaps-hKReYjzI/lib/python3.11/site-packages/pyproj/transformer.py:817: FutureWarning: Calling float on a single element Series is deprecated and will raise a TypeError in the future. Use float(ser.iloc[0]) instead\n",
      "  return self._transformer._transform_point(\n"
     ]
    },
    {
     "name": "stdout",
     "output_type": "stream",
     "text": [
      "[2025-02-25 16:29:33.030718] Finished Tucks in 0:00:06.267877\n",
      "[2025-02-25 16:29:33.030931] calling:  plotParade(Zulu, savePlot=True)\n",
      "[2025-02-25 16:29:33.052633] Creating Map for Zulu\t\tFig Size: (10, 16.982877226696896)\tExtent:  (-90.090958724431, 29.933065318978997, -90.068166527498, 29.971773027203)\tCRS:  <geoplot.crs.Mercator object at 0x7fac48c22610>\n"
     ]
    },
    {
     "name": "stderr",
     "output_type": "stream",
     "text": [
      "/home/g/.local/share/virtualenvs/MardiGrasMaps-hKReYjzI/lib/python3.11/site-packages/pyproj/transformer.py:817: FutureWarning: Calling float on a single element Series is deprecated and will raise a TypeError in the future. Use float(ser.iloc[0]) instead\n",
      "  return self._transformer._transform_point(\n"
     ]
    },
    {
     "name": "stdout",
     "output_type": "stream",
     "text": [
      "[2025-02-25 16:29:43.821630] Finished Zulu in 0:00:10.790676\n",
      "[2025-02-25 16:29:43.821889] Total time 0:03:51.282241\n"
     ]
    }
   ],
   "source": [
    "startTime = datetime.now()\n",
    "lp(\"Creating all maps and saving...\")\n",
    "for p in sorted(routesDf.index):\n",
    "\n",
    "    lp(f\"calling:  plotParade({p}, savePlot=True)\")\n",
    "    plotParade(p, savePlot=True)\n",
    "\n",
    "lp(f\"Total time {datetime.now() - startTime}\")"
   ]
  },
  {
   "cell_type": "code",
   "execution_count": 13,
   "id": "42ed02ac-b0dd-4bac-99f6-5f077fe9439c",
   "metadata": {},
   "outputs": [
    {
     "name": "stdout",
     "output_type": "stream",
     "text": [
      "[2025-02-25 16:29:43.825185] FIN\n"
     ]
    }
   ],
   "source": [
    "lp(\"FIN\")"
   ]
  },
  {
   "cell_type": "code",
   "execution_count": null,
   "id": "a42a72ef-31f0-4be2-92ab-1e549e2fe306",
   "metadata": {},
   "outputs": [],
   "source": []
  }
 ],
 "metadata": {
  "kernelspec": {
   "display_name": "Python 3 (ipykernel)",
   "language": "python",
   "name": "python3"
  },
  "language_info": {
   "codemirror_mode": {
    "name": "ipython",
    "version": 3
   },
   "file_extension": ".py",
   "mimetype": "text/x-python",
   "name": "python",
   "nbconvert_exporter": "python",
   "pygments_lexer": "ipython3",
   "version": "3.11.2"
  }
 },
 "nbformat": 4,
 "nbformat_minor": 5
}
